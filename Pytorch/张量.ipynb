{
 "cells": [
  {
   "cell_type": "markdown",
   "id": "3bd5d27f-87ed-48c1-b936-9fe68af1127f",
   "metadata": {},
   "source": [
    "### 什么是Pytorch\n",
    "###### PyTorch是一个基于Python的科学计算包，主要定位两类人群：\n",
    "+ Numpy 的替代品，可以利用GPU的性能进行计算\n",
    "+ 深度学习研究平台拥有足够的灵活性和速度\n",
    "\n",
    "### 开始学习\n",
    "### Tensors（张量）\n",
    "Tensors类似于NumPy的ndarrays，同时Tensors可以使用GPU进行计算"
   ]
  },
  {
   "cell_type": "code",
   "execution_count": 1,
   "id": "c8c0134c-2134-4d54-ab1c-49c9bb7e91ac",
   "metadata": {},
   "outputs": [],
   "source": [
    "from __future__ import print_function\n",
    "import torch"
   ]
  },
  {
   "cell_type": "markdown",
   "id": "9a6dac89-0d01-4cb2-835e-7aee71f3c711",
   "metadata": {},
   "source": [
    "构建一个5*3矩阵，不初始化"
   ]
  },
  {
   "cell_type": "code",
   "execution_count": 2,
   "id": "df8f138d-7b09-4fab-9dbc-3932d5ec7712",
   "metadata": {},
   "outputs": [
    {
     "name": "stdout",
     "output_type": "stream",
     "text": [
      "tensor([[0., 0., 0.],\n",
      "        [0., 0., 0.],\n",
      "        [0., 0., 0.],\n",
      "        [0., 0., 0.],\n",
      "        [0., 0., 0.]])\n"
     ]
    }
   ],
   "source": [
    "x = torch.empty(5,3)\n",
    "print(x)"
   ]
  },
  {
   "cell_type": "markdown",
   "id": "0a1e06b0-ef71-4e82-b553-e31fed3f219f",
   "metadata": {},
   "source": [
    "构造一个矩阵全为0，而且数据类型是long."
   ]
  },
  {
   "cell_type": "code",
   "execution_count": 3,
   "id": "98514eed-8c1c-47ee-94be-28f4a6d6169b",
   "metadata": {},
   "outputs": [
    {
     "name": "stdout",
     "output_type": "stream",
     "text": [
      "tensor([[0., 0., 0.],\n",
      "        [0., 0., 0.],\n",
      "        [0., 0., 0.],\n",
      "        [0., 0., 0.],\n",
      "        [0., 0., 0.]])\n"
     ]
    }
   ],
   "source": [
    "torch.zeros(5, 3, dtype=torch.long)\n",
    "print(x)"
   ]
  },
  {
   "cell_type": "markdown",
   "id": "7aae33bc-38a8-4ced-9459-a9e38d0808ec",
   "metadata": {},
   "source": [
    "构造一个张量，直接使用数据："
   ]
  },
  {
   "cell_type": "code",
   "execution_count": 5,
   "id": "beafed9d-c9e7-4ea2-8668-6f435c934155",
   "metadata": {},
   "outputs": [
    {
     "name": "stdout",
     "output_type": "stream",
     "text": [
      "tensor([5.5000, 3.0000])\n"
     ]
    }
   ],
   "source": [
    "x = torch.tensor([5.5, 3])\n",
    "print(x)"
   ]
  },
  {
   "cell_type": "markdown",
   "id": "b0344292-088f-4052-a47f-6f17068ac9f5",
   "metadata": {},
   "source": [
    "创建一个tensor基于已经存在的tensor。"
   ]
  },
  {
   "cell_type": "code",
   "execution_count": 6,
   "id": "c3d92be7-4978-4672-9f33-dba743fbe31b",
   "metadata": {},
   "outputs": [
    {
     "name": "stdout",
     "output_type": "stream",
     "text": [
      "tensor([[1., 1., 1.],\n",
      "        [1., 1., 1.],\n",
      "        [1., 1., 1.],\n",
      "        [1., 1., 1.],\n",
      "        [1., 1., 1.]], dtype=torch.float64)\n",
      "tensor([[-0.4411,  1.4363, -0.9810],\n",
      "        [ 0.6356,  0.1591, -0.9534],\n",
      "        [-0.5226,  1.0963,  1.3908],\n",
      "        [-0.3781, -0.4079,  2.4331],\n",
      "        [-1.1246,  0.3545,  0.9555]])\n"
     ]
    }
   ],
   "source": [
    "x = x.new_ones(5,3,dtype=torch.double)\n",
    "# new_* methods take in sizes\n",
    "print(x)\n",
    "\n",
    "x = torch.randn_like(x, dtype=torch.float)\n",
    "# override dtype!\n",
    "print(x)\n",
    "# result has the same size"
   ]
  },
  {
   "cell_type": "markdown",
   "id": "231603bf-de22-46ff-97c7-c096a20a836c",
   "metadata": {},
   "source": [
    "获取它的维度信息"
   ]
  },
  {
   "cell_type": "code",
   "execution_count": 8,
   "id": "8578f3f7-d488-4819-b15e-74c8f8e3c234",
   "metadata": {},
   "outputs": [
    {
     "name": "stdout",
     "output_type": "stream",
     "text": [
      "torch.Size([5, 3])\n"
     ]
    }
   ],
   "source": [
    "print(x.size())"
   ]
  },
  {
   "cell_type": "markdown",
   "id": "ecf214c3-ca4d-45ca-82e8-fa7f4e7e060d",
   "metadata": {},
   "source": [
    "### 操作\n",
    "在接下来的例子中，我们将会看到加法操作。加法：方式1"
   ]
  },
  {
   "cell_type": "code",
   "execution_count": 11,
   "id": "a1be6c8f-912a-4f44-beb0-4189be4d1ae9",
   "metadata": {},
   "outputs": [
    {
     "name": "stdout",
     "output_type": "stream",
     "text": [
      "tensor([[ 0.0238,  1.9810, -0.9326],\n",
      "        [ 0.8832,  0.3432, -0.2265],\n",
      "        [-0.5105,  1.7660,  2.2002],\n",
      "        [-0.1851, -0.3075,  3.2504],\n",
      "        [-0.8870,  0.4080,  1.4275]])\n"
     ]
    }
   ],
   "source": [
    "y = torch.rand(5,3)\n",
    "print(x+y)"
   ]
  },
  {
   "cell_type": "markdown",
   "id": "5bb97a24-560f-42a6-8aef-59462a15f7c1",
   "metadata": {},
   "source": [
    "加法：方式2"
   ]
  },
  {
   "cell_type": "code",
   "execution_count": 12,
   "id": "43994ecb-d1c0-494b-a715-4af220fa0372",
   "metadata": {},
   "outputs": [
    {
     "name": "stdout",
     "output_type": "stream",
     "text": [
      "tensor([[ 0.0238,  1.9810, -0.9326],\n",
      "        [ 0.8832,  0.3432, -0.2265],\n",
      "        [-0.5105,  1.7660,  2.2002],\n",
      "        [-0.1851, -0.3075,  3.2504],\n",
      "        [-0.8870,  0.4080,  1.4275]])\n"
     ]
    }
   ],
   "source": [
    "print(torch.add(x,y))"
   ]
  },
  {
   "cell_type": "markdown",
   "id": "46ef7b80-46f0-498a-9220-7f08ba5496df",
   "metadata": {},
   "source": [
    "加法：提供一个输出tensor作为参数"
   ]
  },
  {
   "cell_type": "code",
   "execution_count": 13,
   "id": "c147a64a-e0c2-4a2a-8195-8a1bdf655c1e",
   "metadata": {},
   "outputs": [
    {
     "name": "stdout",
     "output_type": "stream",
     "text": [
      "tensor([[ 0.0238,  1.9810, -0.9326],\n",
      "        [ 0.8832,  0.3432, -0.2265],\n",
      "        [-0.5105,  1.7660,  2.2002],\n",
      "        [-0.1851, -0.3075,  3.2504],\n",
      "        [-0.8870,  0.4080,  1.4275]])\n"
     ]
    }
   ],
   "source": [
    "result = torch.empty(5,3)\n",
    "torch.add(x,y,out=result)\n",
    "print(result)"
   ]
  },
  {
   "cell_type": "markdown",
   "id": "7911a899-91a1-47e4-8cc4-fd22ce683b21",
   "metadata": {},
   "source": [
    "加法：in-place"
   ]
  },
  {
   "cell_type": "code",
   "execution_count": 14,
   "id": "5768d8bf-b1f5-4292-9d42-307e5f0ee85d",
   "metadata": {},
   "outputs": [
    {
     "name": "stdout",
     "output_type": "stream",
     "text": [
      "tensor([[ 0.0238,  1.9810, -0.9326],\n",
      "        [ 0.8832,  0.3432, -0.2265],\n",
      "        [-0.5105,  1.7660,  2.2002],\n",
      "        [-0.1851, -0.3075,  3.2504],\n",
      "        [-0.8870,  0.4080,  1.4275]])\n"
     ]
    }
   ],
   "source": [
    "# adds x to y\n",
    "y.add_(x)\n",
    "print(y)"
   ]
  },
  {
   "cell_type": "markdown",
   "id": "6692d7c2-e924-4093-b83e-5c999eae2ddb",
   "metadata": {},
   "source": [
    "### 注意：任何使张量会发生变化的操作都有一个前缀'_'.例如：\n",
    "```\n",
    "x.copy_(y)\n",
    "```\n",
    ",\n",
    "```\n",
    "x.t_()\n",
    "```\n",
    ",将会改变\n",
    "```\n",
    "x\n",
    "```\n",
    ".\n",
    "你可以使用标准的Numpy类似的索引操作"
   ]
  },
  {
   "cell_type": "code",
   "execution_count": 15,
   "id": "68cb206e-2741-4423-b2a0-1d41b3dad691",
   "metadata": {},
   "outputs": [
    {
     "name": "stdout",
     "output_type": "stream",
     "text": [
      "tensor([ 1.4363,  0.1591,  1.0963, -0.4079,  0.3545])\n"
     ]
    }
   ],
   "source": [
    "print(x[:,1])"
   ]
  },
  {
   "cell_type": "code",
   "execution_count": null,
   "id": "0b1f3b66-814b-4b3d-8d54-17e7073d6670",
   "metadata": {},
   "outputs": [],
   "source": [
    "改变大小：如果你想改变一个tensor的da"
   ]
  }
 ],
 "metadata": {
  "kernelspec": {
   "display_name": "torch-gpuprivate",
   "language": "python",
   "name": "torch-gpuprivate"
  },
  "language_info": {
   "codemirror_mode": {
    "name": "ipython",
    "version": 3
   },
   "file_extension": ".py",
   "mimetype": "text/x-python",
   "name": "python",
   "nbconvert_exporter": "python",
   "pygments_lexer": "ipython3",
   "version": "3.10.11"
  }
 },
 "nbformat": 4,
 "nbformat_minor": 5
}
