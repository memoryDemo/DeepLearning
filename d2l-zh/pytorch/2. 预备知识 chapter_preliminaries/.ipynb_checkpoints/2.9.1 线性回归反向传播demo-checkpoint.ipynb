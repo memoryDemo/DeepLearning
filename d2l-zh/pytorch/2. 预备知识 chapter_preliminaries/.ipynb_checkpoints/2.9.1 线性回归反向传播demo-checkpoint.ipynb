{
 "cells": [
  {
   "cell_type": "markdown",
   "id": "fd5b5b65-2da3-44c0-bc10-f1d91b5cd027",
   "metadata": {},
   "source": [
    "通过一个简单的线性回归模型来解释反向传播。线性回归模型的目标是找到一条线，使得所有数据点到这条线的距离（即误差）之和最小。"
   ]
  },
  {
   "cell_type": "code",
   "execution_count": 4,
   "id": "d3c7ee60-0251-43ef-acb0-57613758e346",
   "metadata": {},
   "outputs": [
    {
     "ename": "SyntaxError",
     "evalue": "invalid decimal literal (2317402776.py, line 26)",
     "output_type": "error",
     "traceback": [
      "\u001b[0;36m  Cell \u001b[0;32mIn[4], line 26\u001b[0;36m\u001b[0m\n\u001b[0;31m    print(f'当前第{i}次训练的权重: {w.5f}')  # 输出当前循环更新的权重\u001b[0m\n\u001b[0m    ^\u001b[0m\n\u001b[0;31mSyntaxError\u001b[0m\u001b[0;31m:\u001b[0m invalid decimal literal\n"
     ]
    }
   ],
   "source": [
    "import torch\n",
    "\n",
    "# 创建数据\n",
    "x = torch.tensor([1.0, 2.0, 3.0, 4.0, 5.0])  # 输入数据\n",
    "y = torch.tensor([2.0, 4.0, 6.0, 8.0, 10.0])  # 实际结果\n",
    "\n",
    "# 初始化模型参数\n",
    "w = torch.tensor([1.0], requires_grad=True)  # 随机初始化权重\n",
    "\n",
    "# 学习率\n",
    "lr = 0.01\n",
    "\n",
    "# 训练模型\n",
    "for i in range(100):\n",
    "    # 前向传播：计算预测结果和损失\n",
    "    y_pred = w * x  # 使用当前的权重预测结果\n",
    "    loss = (y_pred - y).pow(2).mean()  # 计算预测结果和实际结果之间的差异（损失）\n",
    "\n",
    "    # 反向传播：计算损失对权重的梯度\n",
    "    loss.backward()  # PyTorch自动计算梯度\n",
    "\n",
    "    # 更新权重\n",
    "    with torch.no_grad():  # 在更新权重时，我们不需要计算梯度\n",
    "        w -= lr * w.grad  # 使用梯度下降更新权重\n",
    "        \n",
    "    print(f'当前第{i}次训练的权重: {w}')  # 输出当前循环更新的权重\n",
    "    \n",
    "    # 清零梯度\n",
    "    w.grad.zero_()\n",
    "\n",
    "print(f'训练后的权重: {w.item()}')  # 输出训练后的权重\n"
   ]
  },
  {
   "cell_type": "markdown",
   "id": "8015a8a4-2045-48b3-a86a-da43b5c0f9d3",
   "metadata": {},
   "source": [
    "首先创建了一些数据，然后初始化了模型的权重。\n",
    "然后，我们进行了100次训练迭代。\n",
    "在每次迭代中，我们首先进行前向传播，计算预测结果和损失，然后进行反向传播，计算损失对权重的梯度，最后我们使用这个梯度来更新权重。\n",
    "这个过程会一直重复，直到模型的性能达到满意的程度（在这个例子中，我们简单地进行了100次迭代）。"
   ]
  }
 ],
 "metadata": {
  "kernelspec": {
   "display_name": "Python 3 (ipykernel)",
   "language": "python",
   "name": "python3"
  },
  "language_info": {
   "codemirror_mode": {
    "name": "ipython",
    "version": 3
   },
   "file_extension": ".py",
   "mimetype": "text/x-python",
   "name": "python",
   "nbconvert_exporter": "python",
   "pygments_lexer": "ipython3",
   "version": "3.10.11"
  }
 },
 "nbformat": 4,
 "nbformat_minor": 5
}
