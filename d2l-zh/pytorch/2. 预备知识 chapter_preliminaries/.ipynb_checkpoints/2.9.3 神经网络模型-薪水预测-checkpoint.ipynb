{
 "cells": [
  {
   "cell_type": "code",
   "execution_count": 1,
   "id": "a1ac74e9-33af-4e77-8854-4f1b57f39053",
   "metadata": {},
   "outputs": [],
   "source": [
    "\"\"\"引入依赖\"\"\"\n",
    "import torch\n",
    "import torch.nn as nn\n",
    "import torch.optim as optim"
   ]
  },
  {
   "cell_type": "code",
   "execution_count": 2,
   "id": "644204f2-0feb-4d61-98d1-f3c6d0cb3e7f",
   "metadata": {},
   "outputs": [],
   "source": [
    "\"\"\"获取数据集\"\"\"\n",
    "features = torch.tensor([[0, 0, 25, 0], [1, 1, 30, 1], [2, 2, 35, 2], [3, 0, 40, 0], [0, 1, 45, 1]], dtype=torch.float)\n",
    "labels = torch.tensor([10000, 15000, 20000, 25000, 30000], dtype=torch.float)"
   ]
  },
  {
   "cell_type": "code",
   "execution_count": null,
   "id": "a983ee36-31d4-4eca-8a0d-db116fda554a",
   "metadata": {},
   "outputs": [],
   "source": [
    "\"\"\"定义神经网络模型\"\"\"\n",
    "\"\"\"包含两个全连接层和一个ReLU激活函数\"\"\"\n",
    "class Net(nn.Module): # 定义了一个新的类Net，它继承了nn.Module。在PyTorch中，所有的神经网络模型都应该继承nn.Module\n",
    "    def __init__(self): # 初始化函数，当我们创建类的一个实例时，这个函数会被调用。 \n",
    "        super(Net, self).__init__() # 调用了父类nn.Module的初始化函数。这是Python面向对象编程的一个常见模式。\n",
    "        self.fc1 = nn.Linear(4, 10) # 创建了一个全连接层（nn.Linear），并将它赋值给self.fc1。这个全连接层接收4个输入特征，并输出10个特征。\n",
    "        self.fc2 = nn.Linear(10, 1) # 创建了另一个全连接层，并将它赋值给self.fc2。这个全连接层接收10个输入特征，并输出1个特征。\n",
    "\n",
    "    def forward(self, x): # 类的前向传播函数，当我们使用神经网络进行预测时，这个函数会被调用。\n",
    "        x = torch.relu(self.fc1(x)) # 首先使用self.fc1全连接层处理输入x，然后对结果应用ReLU激活函数。\n",
    "        x = self.fc2(x) # 使用self.fc2全连接层处理上一步的结果\n",
    "        return x # 返回最后的预测结果\n",
    "\n",
    "net = Net() # 创建了Net类的一个实例，并将它赋值给net。"
   ]
  },
  {
   "cell_type": "code",
   "execution_count": null,
   "id": "ad5d5412-99db-4688-8972-434dacbf88be",
   "metadata": {},
   "outputs": [],
   "source": [
    "\"\"\"定义损失函数和优化器\"\"\"\n",
    "\"\"\"定义了一个均方误差损失函数和一个随机梯度下降优化器\"\"\"\n",
    "criterion = nn.MSELoss()\n",
    "optimizer = optim.SGD(net.parameters(), lr=0.01)"
   ]
  },
  {
   "cell_type": "code",
   "execution_count": null,
   "id": "343e3ea7-d505-4c99-acb3-0513ca78c008",
   "metadata": {},
   "outputs": [],
   "source": [
    "\"\"\"训练模型\"\"\"\n",
    "\"\"\"进行了1000次训练迭代\"\"\"\n",
    "\"\"\"每次迭代中，我们都会计算模型的输出和损失\"\"\"\n",
    "\"\"\"然后使用反向传播和优化器更新模型的参数\"\"\"\n",
    "for epoch in range(1000):\n",
    "    optimizer.zero_grad()\n",
    "    outputs = net(features)\n",
    "    loss = criterion(outputs.squeeze(), labels)\n",
    "    loss.backward()\n",
    "    optimizer.step()"
   ]
  },
  {
   "cell_type": "code",
   "execution_count": null,
   "id": "627043fc-da66-4d08-ad9b-d7cf847c7f94",
   "metadata": {},
   "outputs": [],
   "source": [
    "\"\"\"预测\"\"\"\n",
    "with torch.no_grad():\n",
    "    test_features = torch.tensor([[1, 2, 40, 1]], dtype=torch.float)\n",
    "    prediction = net(test_features)\n",
    "    print(prediction)"
   ]
  }
 ],
 "metadata": {
  "kernelspec": {
   "display_name": "Python 3 (ipykernel)",
   "language": "python",
   "name": "python3"
  },
  "language_info": {
   "codemirror_mode": {
    "name": "ipython",
    "version": 3
   },
   "file_extension": ".py",
   "mimetype": "text/x-python",
   "name": "python",
   "nbconvert_exporter": "python",
   "pygments_lexer": "ipython3",
   "version": "3.10.11"
  }
 },
 "nbformat": 4,
 "nbformat_minor": 5
}
