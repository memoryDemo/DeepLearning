{
 "cells": [
  {
   "cell_type": "markdown",
   "id": "539f91f0",
   "metadata": {
    "origin_pos": 0
   },
   "source": [
    "# 线性代数\n",
    ":label:`sec_linear-algebra`\n",
    "\n",
    "在介绍完如何存储和操作数据后，接下来将简要地回顾一下部分基本线性代数内容。\n",
    "这些内容有助于读者了解和实现本书中介绍的大多数模型。\n",
    "本节将介绍线性代数中的基本数学对象、算术和运算，并用数学符号和相应的代码实现来表示它们。\n",
    "\n",
    "## 标量\n",
    "\n",
    "\n",
    "如果你曾经在餐厅支付餐费，那么应该已经知道一些基本的线性代数，比如在数字间相加或相乘。\n",
    "例如，北京的温度为$52^{\\circ}F$（华氏度，除摄氏度外的另一种温度计量单位）。\n",
    "严格来说，仅包含一个数值被称为*标量*（scalar）。\n",
    "如果要将此华氏度值转换为更常用的摄氏度，\n",
    "则可以计算表达式$c=\\frac{5}{9}(f-32)$，并将$f$赋为$52$。\n",
    "在此等式中，每一项（$5$、$9$和$32$）都是标量值。\n",
    "符号$c$和$f$称为*变量*（variable），它们表示未知的标量值。\n",
    "\n",
    "本书采用了数学表示法，其中标量变量由普通小写字母表示（例如，$x$、$y$和$z$）。\n",
    "本书用$\\mathbb{R}$表示所有（连续）*实数*标量的空间，之后将严格定义*空间*（space）是什么，\n",
    "但现在只要记住表达式$x\\in\\mathbb{R}$是表示$x$是一个实值标量的正式形式。\n",
    "符号$\\in$称为“属于”，它表示“是集合中的成员”。\n",
    "例如$x, y \\in \\{0,1\\}$可以用来表明$x$和$y$是值只能为$0$或$1$的数字。\n",
    "\n",
    "(**标量由只有一个元素的张量表示**)。\n",
    "下面的代码将实例化两个标量，并执行一些熟悉的算术运算，即加法、乘法、除法和指数。\n"
   ]
  },
  {
   "cell_type": "code",
   "execution_count": 1,
   "id": "8428fe2d",
   "metadata": {
    "origin_pos": 2,
    "tab": [
     "pytorch"
    ]
   },
   "outputs": [
    {
     "data": {
      "text/plain": [
       "(tensor(5.), tensor(6.), tensor(1.5000), tensor(9.))"
      ]
     },
     "execution_count": 1,
     "metadata": {},
     "output_type": "execute_result"
    }
   ],
   "source": [
    "import torch\n",
    "\n",
    "x = torch.tensor(3.0)\n",
    "y = torch.tensor(2.0)\n",
    "\n",
    "x + y, x * y, x / y, x**y"
   ]
  },
  {
   "cell_type": "markdown",
   "id": "95331593",
   "metadata": {
    "origin_pos": 5
   },
   "source": [
    "## 向量\n",
    "\n",
    "[**向量可以被视为标量值组成的列表**]。\n",
    "这些标量值被称为向量的*元素*（element）或*分量*（component）。\n",
    "当向量表示数据集中的样本时，它们的值具有一定的现实意义。\n",
    "例如，如果我们正在训练一个模型来预测贷款违约风险，可能会将每个申请人与一个向量相关联，\n",
    "其分量与其收入、工作年限、过往违约次数和其他因素相对应。\n",
    "如果我们正在研究医院患者可能面临的心脏病发作风险，可能会用一个向量来表示每个患者，\n",
    "其分量为最近的生命体征、胆固醇水平、每天运动时间等。\n",
    "在数学表示法中，向量通常记为粗体、小写的符号\n",
    "（例如，$\\mathbf{x}$、$\\mathbf{y}$和$\\mathbf{z})$）。\n",
    "\n",
    "人们通过一维张量表示向量。一般来说，张量可以具有任意长度，取决于机器的内存限制。\n"
   ]
  },
  {
   "cell_type": "code",
   "execution_count": 2,
   "id": "c993f620",
   "metadata": {
    "origin_pos": 7,
    "tab": [
     "pytorch"
    ]
   },
   "outputs": [
    {
     "data": {
      "text/plain": [
       "tensor([0, 1, 2, 3])"
      ]
     },
     "execution_count": 2,
     "metadata": {},
     "output_type": "execute_result"
    }
   ],
   "source": [
    "x = torch.arange(4)\n",
    "x"
   ]
  },
  {
   "cell_type": "markdown",
   "id": "488a92c7",
   "metadata": {
    "origin_pos": 10
   },
   "source": [
    "我们可以使用下标来引用向量的任一元素，例如可以通过$x_i$来引用第$i$个元素。\n",
    "注意，元素$x_i$是一个标量，所以我们在引用它时不会加粗。\n",
    "大量文献认为列向量是向量的默认方向，在本书中也是如此。\n",
    "在数学中，向量$\\mathbf{x}$可以写为：\n",
    "\n",
    "$$\\mathbf{x} =\\begin{bmatrix}x_{1}  \\\\x_{2}  \\\\ \\vdots  \\\\x_{n}\\end{bmatrix},$$\n",
    ":eqlabel:`eq_vec_def`\n",
    "\n",
    "其中$x_1,\\ldots,x_n$是向量的元素。在代码中，我们(**通过张量的索引来访问任一元素**)。\n"
   ]
  },
  {
   "cell_type": "code",
   "execution_count": 4,
   "id": "e6fd7ba7",
   "metadata": {
    "origin_pos": 12,
    "tab": [
     "pytorch"
    ]
   },
   "outputs": [
    {
     "data": {
      "text/plain": [
       "tensor(3)"
      ]
     },
     "execution_count": 4,
     "metadata": {},
     "output_type": "execute_result"
    }
   ],
   "source": [
    "x[3]"
   ]
  },
  {
   "cell_type": "markdown",
   "id": "387b5d1f",
   "metadata": {
    "origin_pos": 15
   },
   "source": [
    "### 长度、维度和形状\n",
    "\n",
    "向量只是一个数字数组，就像每个数组都有一个长度一样，每个向量也是如此。\n",
    "在数学表示法中，如果我们想说一个向量$\\mathbf{x}$由$n$个实值标量组成，\n",
    "可以将其表示为$\\mathbf{x}\\in\\mathbb{R}^n$。\n",
    "向量的长度通常称为向量的*维度*（dimension）。\n",
    "\n",
    "与普通的Python数组一样，我们可以通过调用Python的内置`len()`函数来[**访问张量的长度**]。\n"
   ]
  },
  {
   "cell_type": "code",
   "execution_count": 5,
   "id": "8f60ef45",
   "metadata": {
    "origin_pos": 17,
    "tab": [
     "pytorch"
    ]
   },
   "outputs": [
    {
     "data": {
      "text/plain": [
       "4"
      ]
     },
     "execution_count": 5,
     "metadata": {},
     "output_type": "execute_result"
    }
   ],
   "source": [
    "len(x)"
   ]
  },
  {
   "cell_type": "markdown",
   "id": "4bfaab81",
   "metadata": {
    "origin_pos": 20
   },
   "source": [
    "当用张量表示一个向量（只有一个轴）时，我们也可以通过`.shape`属性访问向量的长度。\n",
    "形状（shape）是一个元素组，列出了张量沿每个轴的长度（维数）。\n",
    "对于(**只有一个轴的张量，形状只有一个元素。**)\n"
   ]
  },
  {
   "cell_type": "code",
   "execution_count": 6,
   "id": "68936fe1",
   "metadata": {
    "origin_pos": 22,
    "tab": [
     "pytorch"
    ]
   },
   "outputs": [
    {
     "data": {
      "text/plain": [
       "torch.Size([4])"
      ]
     },
     "execution_count": 6,
     "metadata": {},
     "output_type": "execute_result"
    }
   ],
   "source": [
    "x.shape"
   ]
  },
  {
   "cell_type": "markdown",
   "id": "13c11979",
   "metadata": {
    "origin_pos": 25
   },
   "source": [
    "请注意，*维度*（dimension）这个词在不同上下文时往往会有不同的含义，这经常会使人感到困惑。\n",
    "为了清楚起见，我们在此明确一下：\n",
    "*向量*或*轴*的维度被用来表示*向量*或*轴*的长度，即向量或轴的元素数量。\n",
    "然而，张量的维度用来表示张量具有的轴数。\n",
    "在这个意义上，张量的某个轴的维数就是这个轴的长度。\n",
    "\n",
    "## 矩阵\n",
    "\n",
    "正如向量将标量从零阶推广到一阶，矩阵将向量从一阶推广到二阶。\n",
    "矩阵，我们通常用粗体、大写字母来表示\n",
    "（例如，$\\mathbf{X}$、$\\mathbf{Y}$和$\\mathbf{Z}$），\n",
    "在代码中表示为具有两个轴的张量。\n",
    "\n",
    "数学表示法使用$\\mathbf{A} \\in \\mathbb{R}^{m \\times n}$\n",
    "来表示矩阵$\\mathbf{A}$，其由$m$行和$n$列的实值标量组成。\n",
    "我们可以将任意矩阵$\\mathbf{A} \\in \\mathbb{R}^{m \\times n}$视为一个表格，\n",
    "其中每个元素$a_{ij}$属于第$i$行第$j$列：\n",
    "\n",
    "$$\\mathbf{A}=\\begin{bmatrix} a_{11} & a_{12} & \\cdots & a_{1n} \\\\ a_{21} & a_{22} & \\cdots & a_{2n} \\\\ \\vdots & \\vdots & \\ddots & \\vdots \\\\ a_{m1} & a_{m2} & \\cdots & a_{mn} \\\\ \\end{bmatrix}.$$\n",
    ":eqlabel:`eq_matrix_def`\n",
    "\n",
    "对于任意$\\mathbf{A} \\in \\mathbb{R}^{m \\times n}$，\n",
    "$\\mathbf{A}$的形状是（$m$,$n$）或$m \\times n$。\n",
    "当矩阵具有相同数量的行和列时，其形状将变为正方形；\n",
    "因此，它被称为*方阵*（square matrix）。\n",
    "\n",
    "当调用函数来实例化张量时，\n",
    "我们可以[**通过指定两个分量$m$和$n$来创建一个形状为$m \\times n$的矩阵**]。\n"
   ]
  },
  {
   "cell_type": "code",
   "execution_count": 8,
   "id": "3b0271e8",
   "metadata": {
    "origin_pos": 27,
    "tab": [
     "pytorch"
    ]
   },
   "outputs": [
    {
     "data": {
      "text/plain": [
       "tensor([[ 0,  1,  2,  3],\n",
       "        [ 4,  5,  6,  7],\n",
       "        [ 8,  9, 10, 11],\n",
       "        [12, 13, 14, 15],\n",
       "        [16, 17, 18, 19]])"
      ]
     },
     "execution_count": 8,
     "metadata": {},
     "output_type": "execute_result"
    }
   ],
   "source": [
    "A = torch.arange(20).reshape(5, 4)\n",
    "A"
   ]
  },
  {
   "cell_type": "code",
   "execution_count": 10,
   "id": "2de09ec9-2c33-4a56-accd-958168e91107",
   "metadata": {},
   "outputs": [
    {
     "data": {
      "text/plain": [
       "tensor([[ 0,  1,  2,  3,  4],\n",
       "        [ 5,  6,  7,  8,  9],\n",
       "        [10, 11, 12, 13, 14],\n",
       "        [15, 16, 17, 18, 19]])"
      ]
     },
     "execution_count": 10,
     "metadata": {},
     "output_type": "execute_result"
    }
   ],
   "source": [
    "A = A.reshape(4,5)\n",
    "A"
   ]
  },
  {
   "cell_type": "markdown",
   "id": "c1e1ba50",
   "metadata": {
    "origin_pos": 30
   },
   "source": [
    "我们可以通过行索引（$i$）和列索引（$j$）来访问矩阵中的标量元素$a_{ij}$，\n",
    "例如$[\\mathbf{A}]_{ij}$。\n",
    "如果没有给出矩阵$\\mathbf{A}$的标量元素，如在 :eqref:`eq_matrix_def`那样，\n",
    "我们可以简单地使用矩阵$\\mathbf{A}$的小写字母索引下标$a_{ij}$\n",
    "来引用$[\\mathbf{A}]_{ij}$。\n",
    "为了表示起来简单，只有在必要时才会将逗号插入到单独的索引中，\n",
    "例如$a_{2,3j}$和$[\\mathbf{A}]_{2i-1,3}$。\n",
    "\n",
    "当我们交换矩阵的行和列时，结果称为矩阵的*转置*（transpose）。\n",
    "通常用$\\mathbf{a}^\\top$来表示矩阵的转置，如果$\\mathbf{B}=\\mathbf{A}^\\top$，\n",
    "则对于任意$i$和$j$，都有$b_{ij}=a_{ji}$。\n",
    "因此，在 :eqref:`eq_matrix_def`中的转置是一个形状为$n \\times m$的矩阵：\n",
    "\n",
    "$$\n",
    "\\mathbf{A}^\\top =\n",
    "\\begin{bmatrix}\n",
    "    a_{11} & a_{21} & \\dots  & a_{m1} \\\\\n",
    "    a_{12} & a_{22} & \\dots  & a_{m2} \\\\\n",
    "    \\vdots & \\vdots & \\ddots  & \\vdots \\\\\n",
    "    a_{1n} & a_{2n} & \\dots  & a_{mn}\n",
    "\\end{bmatrix}.\n",
    "$$\n",
    "\n",
    "现在在代码中访问(**矩阵的转置**)。\n"
   ]
  },
  {
   "cell_type": "code",
   "execution_count": 12,
   "id": "1a1619e7",
   "metadata": {
    "origin_pos": 32,
    "tab": [
     "pytorch"
    ]
   },
   "outputs": [
    {
     "data": {
      "text/plain": [
       "tensor([[ 0,  5, 10, 15],\n",
       "        [ 1,  6, 11, 16],\n",
       "        [ 2,  7, 12, 17],\n",
       "        [ 3,  8, 13, 18],\n",
       "        [ 4,  9, 14, 19]])"
      ]
     },
     "execution_count": 12,
     "metadata": {},
     "output_type": "execute_result"
    }
   ],
   "source": [
    "A.T"
   ]
  },
  {
   "cell_type": "markdown",
   "id": "994307c0",
   "metadata": {
    "origin_pos": 35
   },
   "source": [
    "作为方阵的一种特殊类型，[***对称矩阵*（symmetric matrix）$\\mathbf{A}$等于其转置：$\\mathbf{A} = \\mathbf{A}^\\top$**]。\n",
    "这里定义一个对称矩阵$\\mathbf{B}$：\n"
   ]
  },
  {
   "cell_type": "code",
   "execution_count": 13,
   "id": "49554f58",
   "metadata": {
    "origin_pos": 37,
    "tab": [
     "pytorch"
    ]
   },
   "outputs": [
    {
     "data": {
      "text/plain": [
       "tensor([[1, 2, 3],\n",
       "        [2, 0, 4],\n",
       "        [3, 4, 5]])"
      ]
     },
     "execution_count": 13,
     "metadata": {},
     "output_type": "execute_result"
    }
   ],
   "source": [
    "B = torch.tensor([[1, 2, 3], [2, 0, 4], [3, 4, 5]])\n",
    "B"
   ]
  },
  {
   "cell_type": "markdown",
   "id": "7f039ae5",
   "metadata": {
    "origin_pos": 40
   },
   "source": [
    "现在我们将`B`与它的转置进行比较。\n"
   ]
  },
  {
   "cell_type": "code",
   "execution_count": 14,
   "id": "29a3fe08",
   "metadata": {
    "origin_pos": 42,
    "tab": [
     "pytorch"
    ]
   },
   "outputs": [
    {
     "data": {
      "text/plain": [
       "tensor([[True, True, True],\n",
       "        [True, True, True],\n",
       "        [True, True, True]])"
      ]
     },
     "execution_count": 14,
     "metadata": {},
     "output_type": "execute_result"
    }
   ],
   "source": [
    "B == B.T"
   ]
  },
  {
   "cell_type": "markdown",
   "id": "8495683f",
   "metadata": {
    "origin_pos": 45
   },
   "source": [
    "矩阵是有用的数据结构：它们允许我们组织具有不同模式的数据。\n",
    "例如，我们矩阵中的行可能对应于不同的房屋（数据样本），而列可能对应于不同的属性。\n",
    "曾经使用过电子表格软件或已阅读过 :numref:`sec_pandas`的人，应该对此很熟悉。\n",
    "因此，尽管单个向量的默认方向是列向量，但在表示表格数据集的矩阵中，\n",
    "将每个数据样本作为矩阵中的行向量更为常见。\n",
    "后面的章节将讲到这点，这种约定将支持常见的深度学习实践。\n",
    "例如，沿着张量的最外轴，我们可以访问或遍历小批量的数据样本。\n",
    "\n",
    "\n",
    "## 张量\n",
    "\n",
    "[**就像向量是标量的推广，矩阵是向量的推广一样，我们可以构建具有更多轴的数据结构**]。\n",
    "张量（本小节中的“张量”指代数对象）是描述具有任意数量轴的$n$维数组的通用方法。\n",
    "例如，向量是一阶张量，矩阵是二阶张量。\n",
    "张量用特殊字体的大写字母表示（例如，$\\mathsf{X}$、$\\mathsf{Y}$和$\\mathsf{Z}$），\n",
    "它们的索引机制（例如$x_{ijk}$和$[\\mathsf{X}]_{1,2i-1,3}$）与矩阵类似。\n",
    "\n",
    "当我们开始处理图像时，张量将变得更加重要，图像以$n$维数组形式出现，\n",
    "其中3个轴对应于高度、宽度，以及一个*通道*（channel）轴，\n",
    "用于表示颜色通道（红色、绿色和蓝色）。\n",
    "现在先将高阶张量暂放一边，而是专注学习其基础知识。\n"
   ]
  },
  {
   "cell_type": "code",
   "execution_count": 15,
   "id": "6026dc3e",
   "metadata": {
    "origin_pos": 47,
    "tab": [
     "pytorch"
    ]
   },
   "outputs": [
    {
     "data": {
      "text/plain": [
       "tensor([[[ 0,  1,  2,  3],\n",
       "         [ 4,  5,  6,  7],\n",
       "         [ 8,  9, 10, 11]],\n",
       "\n",
       "        [[12, 13, 14, 15],\n",
       "         [16, 17, 18, 19],\n",
       "         [20, 21, 22, 23]]])"
      ]
     },
     "execution_count": 15,
     "metadata": {},
     "output_type": "execute_result"
    }
   ],
   "source": [
    "X = torch.arange(24).reshape(2, 3, 4)\n",
    "X"
   ]
  },
  {
   "cell_type": "markdown",
   "id": "5660a911",
   "metadata": {
    "origin_pos": 50
   },
   "source": [
    "## 张量算法的基本性质\n",
    "\n",
    "标量、向量、矩阵和任意数量轴的张量（本小节中的“张量”指代数对象）有一些实用的属性。\n",
    "例如，从按元素操作的定义中可以注意到，任何按元素的一元运算都不会改变其操作数的形状。\n",
    "同样，[**给定具有相同形状的任意两个张量，任何按元素二元运算的结果都将是相同形状的张量**]。\n",
    "例如，将两个相同形状的矩阵相加，会在这两个矩阵上执行元素加法。\n"
   ]
  },
  {
   "cell_type": "code",
   "execution_count": 16,
   "id": "daf13e51",
   "metadata": {
    "origin_pos": 52,
    "tab": [
     "pytorch"
    ]
   },
   "outputs": [
    {
     "data": {
      "text/plain": [
       "(tensor([[ 0.,  1.,  2.,  3.],\n",
       "         [ 4.,  5.,  6.,  7.],\n",
       "         [ 8.,  9., 10., 11.],\n",
       "         [12., 13., 14., 15.],\n",
       "         [16., 17., 18., 19.]]),\n",
       " tensor([[ 0.,  2.,  4.,  6.],\n",
       "         [ 8., 10., 12., 14.],\n",
       "         [16., 18., 20., 22.],\n",
       "         [24., 26., 28., 30.],\n",
       "         [32., 34., 36., 38.]]))"
      ]
     },
     "execution_count": 16,
     "metadata": {},
     "output_type": "execute_result"
    }
   ],
   "source": [
    "A = torch.arange(20, dtype=torch.float32).reshape(5, 4)\n",
    "B = A.clone()  # 通过分配新内存，将A的一个副本分配给B\n",
    "A, A + B"
   ]
  },
  {
   "cell_type": "markdown",
   "id": "9d49f69f",
   "metadata": {
    "origin_pos": 55
   },
   "source": [
    "具体而言，[**两个矩阵的按元素乘法称为*Hadamard积*（Hadamard product）（数学符号$\\odot$）**]。\n",
    "对于矩阵$\\mathbf{B} \\in \\mathbb{R}^{m \\times n}$，\n",
    "其中第$i$行和第$j$列的元素是$b_{ij}$。\n",
    "矩阵$\\mathbf{A}$（在 :eqref:`eq_matrix_def`中定义）和$\\mathbf{B}$的Hadamard积为：\n",
    "$$\n",
    "\\mathbf{A} \\odot \\mathbf{B} =\n",
    "\\begin{bmatrix}\n",
    "    a_{11}  b_{11} & a_{12}  b_{12} & \\dots  & a_{1n}  b_{1n} \\\\\n",
    "    a_{21}  b_{21} & a_{22}  b_{22} & \\dots  & a_{2n}  b_{2n} \\\\\n",
    "    \\vdots & \\vdots & \\ddots & \\vdots \\\\\n",
    "    a_{m1}  b_{m1} & a_{m2}  b_{m2} & \\dots  & a_{mn}  b_{mn}\n",
    "\\end{bmatrix}.\n",
    "$$\n"
   ]
  },
  {
   "cell_type": "code",
   "execution_count": 19,
   "id": "3fcf4677",
   "metadata": {
    "origin_pos": 57,
    "tab": [
     "pytorch"
    ]
   },
   "outputs": [
    {
     "data": {
      "text/plain": [
       "tensor([[  0.,   1.,   4.,   9.],\n",
       "        [ 16.,  25.,  36.,  49.],\n",
       "        [ 64.,  81., 100., 121.],\n",
       "        [144., 169., 196., 225.],\n",
       "        [256., 289., 324., 361.]])"
      ]
     },
     "execution_count": 19,
     "metadata": {},
     "output_type": "execute_result"
    }
   ],
   "source": [
    "A * B"
   ]
  },
  {
   "cell_type": "markdown",
   "id": "daa11957",
   "metadata": {
    "origin_pos": 60
   },
   "source": [
    "将张量乘以或加上一个标量不会改变张量的形状，其中张量的每个元素都将与标量相加或相乘。\n"
   ]
  },
  {
   "cell_type": "code",
   "execution_count": 20,
   "id": "6a594342-1005-465a-9e61-3893ebdd6fbe",
   "metadata": {},
   "outputs": [
    {
     "name": "stdout",
     "output_type": "stream",
     "text": [
      "tensor([[[ 0,  1,  2,  3],\n",
      "         [ 4,  5,  6,  7],\n",
      "         [ 8,  9, 10, 11]],\n",
      "\n",
      "        [[12, 13, 14, 15],\n",
      "         [16, 17, 18, 19],\n",
      "         [20, 21, 22, 23]]])\n"
     ]
    }
   ],
   "source": [
    "Z = torch.arange(24).reshape(2, 3, 4)\n",
    "print(Z)"
   ]
  },
  {
   "cell_type": "code",
   "execution_count": 21,
   "id": "f4642bf4",
   "metadata": {
    "origin_pos": 62,
    "scrolled": true,
    "tab": [
     "pytorch"
    ]
   },
   "outputs": [
    {
     "data": {
      "text/plain": [
       "(tensor([[[ 2,  3,  4,  5],\n",
       "          [ 6,  7,  8,  9],\n",
       "          [10, 11, 12, 13]],\n",
       " \n",
       "         [[14, 15, 16, 17],\n",
       "          [18, 19, 20, 21],\n",
       "          [22, 23, 24, 25]]]),\n",
       " torch.Size([2, 3, 4]))"
      ]
     },
     "execution_count": 21,
     "metadata": {},
     "output_type": "execute_result"
    }
   ],
   "source": [
    "a = 2\n",
    "X = torch.arange(24).reshape(2, 3, 4)\n",
    "a + X, (a * X).shape"
   ]
  },
  {
   "cell_type": "markdown",
   "id": "fcd513e8-518b-45f3-b0ae-d0c0efb28c03",
   "metadata": {},
   "source": [
    "`len()`函数在Python中用来计算对象（例如，列表、元组、字符串等）的长度。对于张量（Tensor）对象，`len()`函数会返回第一个维度（axis 0）的长度。\n",
    "\n",
    "在你的例子中，你的张量 `X` 的形状应该是 (2, 3, 4)，即它有2个矩阵，每个矩阵有3行4列。因此，当你调用 `len(X)` 时，它返回的是第一个维度的长度，即2。这意味着你的张量 `X` 包含2个子张量。\n",
    "\n",
    "简单来说，`len(X)` 就是返回了张量 `X` 的第一个维度的长度，即包含的子张量（或者说是矩阵）的数量。"
   ]
  },
  {
   "cell_type": "code",
   "execution_count": 64,
   "id": "b59409c3-e383-494c-b8ca-07a86f52fab4",
   "metadata": {},
   "outputs": [
    {
     "data": {
      "text/plain": [
       "(tensor([[[ 0,  1,  2,  3],\n",
       "          [ 4,  5,  6,  7],\n",
       "          [ 8,  9, 10, 11]],\n",
       " \n",
       "         [[12, 13, 14, 15],\n",
       "          [16, 17, 18, 19],\n",
       "          [20, 21, 22, 23]]]),\n",
       " 2)"
      ]
     },
     "execution_count": 64,
     "metadata": {},
     "output_type": "execute_result"
    }
   ],
   "source": [
    "X,len(X)"
   ]
  },
  {
   "cell_type": "markdown",
   "id": "db5a27d6",
   "metadata": {
    "jupyter": {
     "source_hidden": true
    },
    "origin_pos": 65
   },
   "source": [
    "## 降维\n",
    "\n",
    ":label:`subseq_lin-alg-reduction`\n",
    "\n",
    "我们可以对任意张量进行的一个有用的操作是[**计算其元素的和**]。\n",
    "数学表示法使用$\\sum$符号表示求和。\n",
    "为了表示长度为$d$的向量中元素的总和，可以记为$\\sum_{i=1}^dx_i$。\n",
    "在代码中可以调用计算求和的函数：\n"
   ]
  },
  {
   "cell_type": "code",
   "execution_count": 24,
   "id": "0f1dba19",
   "metadata": {
    "origin_pos": 67,
    "tab": [
     "pytorch"
    ]
   },
   "outputs": [
    {
     "data": {
      "text/plain": [
       "(tensor([0., 1., 2., 3.]), tensor(6.))"
      ]
     },
     "execution_count": 24,
     "metadata": {},
     "output_type": "execute_result"
    }
   ],
   "source": [
    "x = torch.arange(4, dtype=torch.float32)\n",
    "x, x.sum()"
   ]
  },
  {
   "cell_type": "markdown",
   "id": "d4fead30",
   "metadata": {
    "origin_pos": 70
   },
   "source": [
    "我们可以(**表示任意形状张量的元素和**)。\n",
    "例如，矩阵$\\mathbf{A}$中元素的和可以记为$\\sum_{i=1}^{m} \\sum_{j=1}^{n} a_{ij}$。\n",
    "\n",
    "\n",
    "$\\sum_{i=1}^{m} \\sum_{j=1}^{n} a_{ij}$"
   ]
  },
  {
   "cell_type": "code",
   "execution_count": 25,
   "id": "8cdcb2ff",
   "metadata": {
    "origin_pos": 72,
    "tab": [
     "pytorch"
    ]
   },
   "outputs": [
    {
     "data": {
      "text/plain": [
       "(torch.Size([5, 4]), tensor(190.))"
      ]
     },
     "execution_count": 25,
     "metadata": {},
     "output_type": "execute_result"
    }
   ],
   "source": [
    "A.shape, A.sum()"
   ]
  },
  {
   "cell_type": "markdown",
   "id": "8ce9665f",
   "metadata": {
    "origin_pos": 75
   },
   "source": [
    "默认情况下，调用求和函数会沿所有的轴降低张量的维度，使它变为一个标量。\n",
    "我们还可以[**指定张量沿哪一个轴来通过求和降低维度**]。\n",
    "以矩阵为例，为了通过求和所有行的元素来降维（轴0），可以在调用函数时指定`axis=0`。\n",
    "由于输入矩阵沿0轴降维以生成输出向量，因此输入轴0的维数在输出形状中消失。\n"
   ]
  },
  {
   "cell_type": "code",
   "execution_count": 31,
   "id": "6e8f71da",
   "metadata": {
    "origin_pos": 77,
    "tab": [
     "pytorch"
    ]
   },
   "outputs": [
    {
     "data": {
      "text/plain": [
       "(tensor([40., 45., 50., 55.]), torch.Size([4]))"
      ]
     },
     "execution_count": 31,
     "metadata": {},
     "output_type": "execute_result"
    }
   ],
   "source": [
    "A_sum_axis0 = A.sum(axis=0)\n",
    "A_sum_axis0, A_sum_axis0.shape"
   ]
  },
  {
   "cell_type": "markdown",
   "id": "01cf2bc6",
   "metadata": {
    "origin_pos": 80
   },
   "source": [
    "指定`axis=1`将通过汇总所有列的元素降维（轴1）。因此，输入轴1的维数在输出形状中消失。\n"
   ]
  },
  {
   "cell_type": "code",
   "execution_count": 32,
   "id": "e148213f",
   "metadata": {
    "origin_pos": 82,
    "tab": [
     "pytorch"
    ]
   },
   "outputs": [
    {
     "data": {
      "text/plain": [
       "(tensor([ 6., 22., 38., 54., 70.]), torch.Size([5]))"
      ]
     },
     "execution_count": 32,
     "metadata": {},
     "output_type": "execute_result"
    }
   ],
   "source": [
    "A_sum_axis1 = A.sum(axis=1)\n",
    "A_sum_axis1, A_sum_axis1.shape"
   ]
  },
  {
   "cell_type": "markdown",
   "id": "7e2740be",
   "metadata": {
    "origin_pos": 85
   },
   "source": [
    "沿着行和列对矩阵求和，等价于对矩阵的所有元素进行求和。\n"
   ]
  },
  {
   "cell_type": "code",
   "execution_count": 33,
   "id": "572a733a",
   "metadata": {
    "origin_pos": 87,
    "tab": [
     "pytorch"
    ]
   },
   "outputs": [
    {
     "data": {
      "text/plain": [
       "tensor(190.)"
      ]
     },
     "execution_count": 33,
     "metadata": {},
     "output_type": "execute_result"
    }
   ],
   "source": [
    "A.sum(axis=[0, 1])  # 结果和A.sum()相同"
   ]
  },
  {
   "cell_type": "markdown",
   "id": "f0fb6eaa",
   "metadata": {
    "origin_pos": 90
   },
   "source": [
    "[**一个与求和相关的量是*平均值*（mean或average）**]。\n",
    "我们通过将总和除以元素总数来计算平均值。\n",
    "在代码中，我们可以调用函数来计算任意形状张量的平均值。\n"
   ]
  },
  {
   "cell_type": "code",
   "execution_count": 34,
   "id": "72e50902",
   "metadata": {
    "origin_pos": 92,
    "tab": [
     "pytorch"
    ]
   },
   "outputs": [
    {
     "data": {
      "text/plain": [
       "(tensor(9.5000), tensor(9.5000))"
      ]
     },
     "execution_count": 34,
     "metadata": {},
     "output_type": "execute_result"
    }
   ],
   "source": [
    "A.mean(), A.sum() / A.numel()"
   ]
  },
  {
   "cell_type": "markdown",
   "id": "563b63d5",
   "metadata": {
    "origin_pos": 95
   },
   "source": [
    "同样，计算平均值的函数也可以沿指定轴降低张量的维度。\n"
   ]
  },
  {
   "cell_type": "code",
   "execution_count": 35,
   "id": "0d826cfd",
   "metadata": {
    "origin_pos": 97,
    "tab": [
     "pytorch"
    ]
   },
   "outputs": [
    {
     "data": {
      "text/plain": [
       "(tensor([ 8.,  9., 10., 11.]), tensor([ 8.,  9., 10., 11.]))"
      ]
     },
     "execution_count": 35,
     "metadata": {},
     "output_type": "execute_result"
    }
   ],
   "source": [
    "# mean(axis=0) 行维度求平均数\n",
    "# A.sum(axis=0) / A.shape[0] 行维度求和 / 行维度维数\n",
    "A.mean(axis=0), A.sum(axis=0) / A.shape[0]"
   ]
  },
  {
   "cell_type": "markdown",
   "id": "8584cbbf",
   "metadata": {
    "origin_pos": 100
   },
   "source": [
    "### 非降维求和\n",
    "\n",
    ":label:`subseq_lin-alg-non-reduction`\n",
    "\n",
    "但是，有时在调用函数来[**计算总和或均值时保持轴数不变**]会很有用。\n"
   ]
  },
  {
   "cell_type": "code",
   "execution_count": 36,
   "id": "581b7536",
   "metadata": {
    "origin_pos": 102,
    "tab": [
     "pytorch"
    ]
   },
   "outputs": [
    {
     "data": {
      "text/plain": [
       "tensor([[ 6.],\n",
       "        [22.],\n",
       "        [38.],\n",
       "        [54.],\n",
       "        [70.]])"
      ]
     },
     "execution_count": 36,
     "metadata": {},
     "output_type": "execute_result"
    }
   ],
   "source": [
    "sum_A = A.sum(axis=1, keepdims=True)\n",
    "sum_A"
   ]
  },
  {
   "cell_type": "markdown",
   "id": "ffcd9286",
   "metadata": {
    "origin_pos": 105
   },
   "source": [
    "例如，由于`sum_A`在对每行进行求和后仍保持两个轴，我们可以(**通过广播将`A`除以`sum_A`**)。\n"
   ]
  },
  {
   "cell_type": "code",
   "execution_count": 38,
   "id": "d5b89e3c-4407-4af6-9959-7ce86eb56805",
   "metadata": {},
   "outputs": [
    {
     "data": {
      "text/plain": [
       "(tensor([[ 0.,  1.,  2.,  3.],\n",
       "         [ 4.,  5.,  6.,  7.],\n",
       "         [ 8.,  9., 10., 11.],\n",
       "         [12., 13., 14., 15.],\n",
       "         [16., 17., 18., 19.]]),\n",
       " tensor([[ 6.],\n",
       "         [22.],\n",
       "         [38.],\n",
       "         [54.],\n",
       "         [70.]]))"
      ]
     },
     "execution_count": 38,
     "metadata": {},
     "output_type": "execute_result"
    }
   ],
   "source": [
    "A, sum_A"
   ]
  },
  {
   "cell_type": "code",
   "execution_count": 39,
   "id": "97fa6ce7",
   "metadata": {
    "origin_pos": 107,
    "tab": [
     "pytorch"
    ]
   },
   "outputs": [
    {
     "data": {
      "text/plain": [
       "tensor([[0.0000, 0.1667, 0.3333, 0.5000],\n",
       "        [0.1818, 0.2273, 0.2727, 0.3182],\n",
       "        [0.2105, 0.2368, 0.2632, 0.2895],\n",
       "        [0.2222, 0.2407, 0.2593, 0.2778],\n",
       "        [0.2286, 0.2429, 0.2571, 0.2714]])"
      ]
     },
     "execution_count": 39,
     "metadata": {},
     "output_type": "execute_result"
    }
   ],
   "source": [
    "A / sum_A"
   ]
  },
  {
   "cell_type": "markdown",
   "id": "3a86e461",
   "metadata": {
    "origin_pos": 110
   },
   "source": [
    "如果我们想沿[**某个轴计算`A`元素的累积总和**]，\n",
    "比如`axis=0`（按行计算），可以调用`cumsum`函数。\n",
    "此函数不会沿任何轴降低输入张量的维度。\n"
   ]
  },
  {
   "cell_type": "code",
   "execution_count": 40,
   "id": "ab93a7d7",
   "metadata": {
    "origin_pos": 112,
    "tab": [
     "pytorch"
    ]
   },
   "outputs": [
    {
     "data": {
      "text/plain": [
       "tensor([[ 0.,  1.,  2.,  3.],\n",
       "        [ 4.,  6.,  8., 10.],\n",
       "        [12., 15., 18., 21.],\n",
       "        [24., 28., 32., 36.],\n",
       "        [40., 45., 50., 55.]])"
      ]
     },
     "execution_count": 40,
     "metadata": {},
     "output_type": "execute_result"
    }
   ],
   "source": [
    "A.cumsum(axis=0)"
   ]
  },
  {
   "cell_type": "markdown",
   "id": "a9223197",
   "metadata": {
    "origin_pos": 115
   },
   "source": [
    "## 点积（Dot Product）\n",
    "\n",
    "我们已经学习了按元素操作、求和及平均值。\n",
    "另一个最基本的操作之一是点积。\n",
    "给定两个向量$\\mathbf{x},\\mathbf{y}\\in\\mathbb{R}^d$，\n",
    "它们的*点积*（dot product）$\\mathbf{x}^\\top\\mathbf{y}$\n",
    "（或$\\langle\\mathbf{x},\\mathbf{y}\\rangle$）\n",
    "是相同位置的按元素乘积的和：$\\mathbf{x}^\\top \\mathbf{y} = \\sum_{i=1}^{d} x_i y_i$。\n",
    "\n",
    "[~~点积是相同位置的按元素乘积的和~~]\n"
   ]
  },
  {
   "cell_type": "code",
   "execution_count": 24,
   "id": "f2290d13",
   "metadata": {
    "execution": {
     "iopub.execute_input": "2022-12-07T16:49:34.537131Z",
     "iopub.status.busy": "2022-12-07T16:49:34.536609Z",
     "iopub.status.idle": "2022-12-07T16:49:34.543465Z",
     "shell.execute_reply": "2022-12-07T16:49:34.542632Z"
    },
    "origin_pos": 117,
    "tab": [
     "pytorch"
    ]
   },
   "outputs": [
    {
     "data": {
      "text/plain": [
       "(tensor([0., 1., 2., 3.]), tensor([1., 1., 1., 1.]), tensor(6.))"
      ]
     },
     "execution_count": 24,
     "metadata": {},
     "output_type": "execute_result"
    }
   ],
   "source": [
    "y = torch.ones(4, dtype = torch.float32)\n",
    "x, y, torch.dot(x, y)"
   ]
  },
  {
   "cell_type": "code",
   "execution_count": 41,
   "id": "de504102-751e-4955-a14d-dbabe47afbdf",
   "metadata": {},
   "outputs": [
    {
     "data": {
      "text/plain": [
       "(tensor([0., 1., 2., 3.]), tensor(2.))"
      ]
     },
     "execution_count": 41,
     "metadata": {},
     "output_type": "execute_result"
    }
   ],
   "source": [
    "x,y"
   ]
  },
  {
   "cell_type": "markdown",
   "id": "53b30bfe",
   "metadata": {
    "origin_pos": 120
   },
   "source": [
    "注意，(**我们可以通过执行按元素乘法，然后进行求和来表示两个向量的点积**)：\n"
   ]
  },
  {
   "cell_type": "code",
   "execution_count": 25,
   "id": "f32e6b06",
   "metadata": {
    "execution": {
     "iopub.execute_input": "2022-12-07T16:49:34.547022Z",
     "iopub.status.busy": "2022-12-07T16:49:34.546435Z",
     "iopub.status.idle": "2022-12-07T16:49:34.552564Z",
     "shell.execute_reply": "2022-12-07T16:49:34.551736Z"
    },
    "origin_pos": 122,
    "tab": [
     "pytorch"
    ]
   },
   "outputs": [
    {
     "data": {
      "text/plain": [
       "tensor(6.)"
      ]
     },
     "execution_count": 25,
     "metadata": {},
     "output_type": "execute_result"
    }
   ],
   "source": [
    "torch.sum(x * y)"
   ]
  },
  {
   "cell_type": "markdown",
   "id": "8a4c6803",
   "metadata": {
    "origin_pos": 125
   },
   "source": [
    "点积在很多场合都很有用。\n",
    "例如，给定一组由向量$\\mathbf{x} \\in \\mathbb{R}^d$表示的值，\n",
    "和一组由$\\mathbf{w} \\in \\mathbb{R}^d$表示的权重。\n",
    "$\\mathbf{x}$中的值根据权重$\\mathbf{w}$的加权和，\n",
    "可以表示为点积$\\mathbf{x}^\\top \\mathbf{w}$。\n",
    "当权重为非负数且和为1（即$\\left(\\sum_{i=1}^{d}{w_i}=1\\right)$）时，\n",
    "点积表示*加权平均*（weighted average）。\n",
    "将两个向量规范化得到单位长度后，点积表示它们夹角的余弦。\n",
    "本节后面的内容将正式介绍*长度*（length）的概念。\n",
    "\n",
    "## 矩阵-向量积\n",
    "\n",
    "现在我们知道如何计算点积，可以开始理解*矩阵-向量积*（matrix-vector product）。\n",
    "回顾分别在 :eqref:`eq_matrix_def`和 :eqref:`eq_vec_def`中定义的矩阵$\\mathbf{A} \\in \\mathbb{R}^{m \\times n}$和向量$\\mathbf{x} \\in \\mathbb{R}^n$。\n",
    "让我们将矩阵$\\mathbf{A}$用它的行向量表示：\n",
    "\n",
    "$$\\mathbf{A}=\n",
    "\\begin{bmatrix}\n",
    "\\mathbf{a}^\\top_{1} \\\\\n",
    "\\mathbf{a}^\\top_{2} \\\\\n",
    "\\vdots \\\\\n",
    "\\mathbf{a}^\\top_m \\\\\n",
    "\\end{bmatrix},$$\n",
    "\n",
    "其中每个$\\mathbf{a}^\\top_{i} \\in \\mathbb{R}^n$都是行向量，表示矩阵的第$i$行。\n",
    "[**矩阵向量积$\\mathbf{A}\\mathbf{x}$是一个长度为$m$的列向量，\n",
    "其第$i$个元素是点积$\\mathbf{a}^\\top_i \\mathbf{x}$**]：\n",
    "\n",
    "$$\n",
    "\\mathbf{A}\\mathbf{x}\n",
    "= \\begin{bmatrix}\n",
    "\\mathbf{a}^\\top_{1} \\\\\n",
    "\\mathbf{a}^\\top_{2} \\\\\n",
    "\\vdots \\\\\n",
    "\\mathbf{a}^\\top_m \\\\\n",
    "\\end{bmatrix}\\mathbf{x}\n",
    "= \\begin{bmatrix}\n",
    " \\mathbf{a}^\\top_{1} \\mathbf{x}  \\\\\n",
    " \\mathbf{a}^\\top_{2} \\mathbf{x} \\\\\n",
    "\\vdots\\\\\n",
    " \\mathbf{a}^\\top_{m} \\mathbf{x}\\\\\n",
    "\\end{bmatrix}.\n",
    "$$\n",
    "\n",
    "我们可以把一个矩阵$\\mathbf{A} \\in \\mathbb{R}^{m \\times n}$乘法看作一个从$\\mathbb{R}^{n}$到$\\mathbb{R}^{m}$向量的转换。\n",
    "这些转换是非常有用的，例如可以用方阵的乘法来表示旋转。\n",
    "后续章节将讲到，我们也可以使用矩阵-向量积来描述在给定前一层的值时，\n",
    "求解神经网络每一层所需的复杂计算。\n"
   ]
  },
  {
   "cell_type": "markdown",
   "id": "a1ba510c",
   "metadata": {
    "origin_pos": 127,
    "tab": [
     "pytorch"
    ]
   },
   "source": [
    "在代码中使用张量表示矩阵-向量积，我们使用`mv`函数。\n",
    "当我们为矩阵`A`和向量`x`调用`torch.mv(A, x)`时，会执行矩阵-向量积。\n",
    "注意，`A`的列维数（沿轴1的长度）必须与`x`的维数（其长度）相同。\n"
   ]
  },
  {
   "cell_type": "code",
   "execution_count": 42,
   "id": "0b2aed0d",
   "metadata": {
    "origin_pos": 130,
    "tab": [
     "pytorch"
    ]
   },
   "outputs": [
    {
     "data": {
      "text/plain": [
       "(torch.Size([5, 4]), torch.Size([4]), tensor([ 14.,  38.,  62.,  86., 110.]))"
      ]
     },
     "execution_count": 42,
     "metadata": {},
     "output_type": "execute_result"
    }
   ],
   "source": [
    "A.shape, x.shape, torch.mv(A, x)"
   ]
  },
  {
   "cell_type": "markdown",
   "id": "c5e3a66d",
   "metadata": {
    "origin_pos": 133
   },
   "source": [
    "## 矩阵-矩阵乘法\n",
    "\n",
    "在掌握点积和矩阵-向量积的知识后，\n",
    "那么**矩阵-矩阵乘法**（matrix-matrix multiplication）应该很简单。\n",
    "\n",
    "假设有两个矩阵$\\mathbf{A} \\in \\mathbb{R}^{n \\times k}$和$\\mathbf{B} \\in \\mathbb{R}^{k \\times m}$：\n",
    "\n",
    "$$\\mathbf{A}=\\begin{bmatrix}\n",
    " a_{11} & a_{12} & \\cdots & a_{1k} \\\\\n",
    " a_{21} & a_{22} & \\cdots & a_{2k} \\\\\n",
    "\\vdots & \\vdots & \\ddots & \\vdots \\\\\n",
    " a_{n1} & a_{n2} & \\cdots & a_{nk} \\\\\n",
    "\\end{bmatrix},\\quad\n",
    "\\mathbf{B}=\\begin{bmatrix}\n",
    " b_{11} & b_{12} & \\cdots & b_{1m} \\\\\n",
    " b_{21} & b_{22} & \\cdots & b_{2m} \\\\\n",
    "\\vdots & \\vdots & \\ddots & \\vdots \\\\\n",
    " b_{k1} & b_{k2} & \\cdots & b_{km} \\\\\n",
    "\\end{bmatrix}.$$\n",
    "\n",
    "用行向量$\\mathbf{a}^\\top_{i} \\in \\mathbb{R}^k$表示矩阵$\\mathbf{A}$的第$i$行，并让列向量$\\mathbf{b}_{j} \\in \\mathbb{R}^k$作为矩阵$\\mathbf{B}$的第$j$列。要生成矩阵积$\\mathbf{C} = \\mathbf{A}\\mathbf{B}$，最简单的方法是考虑$\\mathbf{A}$的行向量和$\\mathbf{B}$的列向量:\n",
    "\n",
    "$$\\mathbf{A}=\n",
    "\\begin{bmatrix}\n",
    "\\mathbf{a}^\\top_{1} \\\\\n",
    "\\mathbf{a}^\\top_{2} \\\\\n",
    "\\vdots \\\\\n",
    "\\mathbf{a}^\\top_n \\\\\n",
    "\\end{bmatrix},\n",
    "\\quad \\mathbf{B}=\\begin{bmatrix}\n",
    " \\mathbf{b}_{1} & \\mathbf{b}_{2} & \\cdots & \\mathbf{b}_{m} \\\\\n",
    "\\end{bmatrix}.\n",
    "$$\n",
    "当我们简单地将每个元素$c_{ij}$计算为点积$\\mathbf{a}^\\top_i \\mathbf{b}_j$:\n",
    "\n",
    "$$\\mathbf{C} = \\mathbf{AB} = \\begin{bmatrix}\n",
    "\\mathbf{a}^\\top_{1} \\\\\n",
    "\\mathbf{a}^\\top_{2} \\\\\n",
    "\\vdots \\\\\n",
    "\\mathbf{a}^\\top_n \\\\\n",
    "\\end{bmatrix}\n",
    "\\begin{bmatrix}\n",
    " \\mathbf{b}_{1} & \\mathbf{b}_{2} & \\cdots & \\mathbf{b}_{m} \\\\\n",
    "\\end{bmatrix}\n",
    "= \\begin{bmatrix}\n",
    "\\mathbf{a}^\\top_{1} \\mathbf{b}_1 & \\mathbf{a}^\\top_{1}\\mathbf{b}_2& \\cdots & \\mathbf{a}^\\top_{1} \\mathbf{b}_m \\\\\n",
    " \\mathbf{a}^\\top_{2}\\mathbf{b}_1 & \\mathbf{a}^\\top_{2} \\mathbf{b}_2 & \\cdots & \\mathbf{a}^\\top_{2} \\mathbf{b}_m \\\\\n",
    " \\vdots & \\vdots & \\ddots &\\vdots\\\\\n",
    "\\mathbf{a}^\\top_{n} \\mathbf{b}_1 & \\mathbf{a}^\\top_{n}\\mathbf{b}_2& \\cdots& \\mathbf{a}^\\top_{n} \\mathbf{b}_m\n",
    "\\end{bmatrix}.\n",
    "$$\n",
    "\n",
    "[**我们可以将矩阵-矩阵乘法$\\mathbf{AB}$看作简单地执行$m$次矩阵-向量积，并将结果拼接在一起，形成一个$n \\times m$矩阵**]。\n",
    "在下面的代码中，我们在`A`和`B`上执行矩阵乘法。\n",
    "这里的`A`是一个5行4列的矩阵，`B`是一个4行3列的矩阵。\n",
    "两者相乘后，我们得到了一个5行3列的矩阵。\n"
   ]
  },
  {
   "cell_type": "code",
   "execution_count": 27,
   "id": "763fbcb9",
   "metadata": {
    "execution": {
     "iopub.execute_input": "2022-12-07T16:49:34.565474Z",
     "iopub.status.busy": "2022-12-07T16:49:34.564932Z",
     "iopub.status.idle": "2022-12-07T16:49:34.571397Z",
     "shell.execute_reply": "2022-12-07T16:49:34.570560Z"
    },
    "origin_pos": 135,
    "tab": [
     "pytorch"
    ]
   },
   "outputs": [
    {
     "data": {
      "text/plain": [
       "tensor([[ 6.,  6.,  6.],\n",
       "        [22., 22., 22.],\n",
       "        [38., 38., 38.],\n",
       "        [54., 54., 54.],\n",
       "        [70., 70., 70.]])"
      ]
     },
     "execution_count": 27,
     "metadata": {},
     "output_type": "execute_result"
    }
   ],
   "source": [
    "B = torch.ones(4, 3)\n",
    "torch.mm(A, B)"
   ]
  },
  {
   "cell_type": "code",
   "execution_count": 43,
   "id": "faaca3e8-14e5-4b6e-9044-b601d3ced2c6",
   "metadata": {},
   "outputs": [
    {
     "data": {
      "text/plain": [
       "(tensor([[ 0.,  1.,  2.,  3.],\n",
       "         [ 4.,  5.,  6.,  7.],\n",
       "         [ 8.,  9., 10., 11.],\n",
       "         [12., 13., 14., 15.],\n",
       "         [16., 17., 18., 19.]]),\n",
       " tensor([[ 0.,  1.,  2.,  3.],\n",
       "         [ 4.,  5.,  6.,  7.],\n",
       "         [ 8.,  9., 10., 11.],\n",
       "         [12., 13., 14., 15.],\n",
       "         [16., 17., 18., 19.]]))"
      ]
     },
     "execution_count": 43,
     "metadata": {},
     "output_type": "execute_result"
    }
   ],
   "source": [
    "A,B\n",
    "torch.tensor(A,)"
   ]
  },
  {
   "cell_type": "markdown",
   "id": "f778e455",
   "metadata": {
    "origin_pos": 138
   },
   "source": [
    "矩阵-矩阵乘法可以简单地称为**矩阵乘法**，不应与\"Hadamard积\"混淆。\n",
    "\n",
    "## 范数\n",
    ":label:`subsec_lin-algebra-norms`\n",
    "\n",
    "线性代数中最有用的一些运算符是*范数*（norm）。\n",
    "非正式地说，向量的*范数*是表示一个向量有多大。\n",
    "这里考虑的*大小*（size）概念不涉及维度，而是分量的大小。\n",
    "\n",
    "在线性代数中，向量范数是将向量映射到标量的函数$f$。\n",
    "给定任意向量$\\mathbf{x}$，向量范数要满足一些属性。\n",
    "第一个性质是：如果我们按常数因子$\\alpha$缩放向量的所有元素，\n",
    "其范数也会按相同常数因子的*绝对值*缩放：\n",
    "\n",
    "$$f(\\alpha \\mathbf{x}) = |\\alpha| f(\\mathbf{x}).$$\n",
    "\n",
    "第二个性质是熟悉的三角不等式:\n",
    "\n",
    "$$f(\\mathbf{x} + \\mathbf{y}) \\leq f(\\mathbf{x}) + f(\\mathbf{y}).$$\n",
    "\n",
    "第三个性质简单地说范数必须是非负的:\n",
    "\n",
    "$$f(\\mathbf{x}) \\geq 0.$$\n",
    "\n",
    "这是有道理的。因为在大多数情况下，任何东西的最小的*大小*是0。\n",
    "最后一个性质要求范数最小为0，当且仅当向量全由0组成。\n",
    "\n",
    "$$\\forall i, [\\mathbf{x}]_i = 0 \\Leftrightarrow f(\\mathbf{x})=0.$$\n",
    "\n",
    "范数听起来很像距离的度量。\n",
    "欧几里得距离和毕达哥拉斯定理中的非负性概念和三角不等式可能会给出一些启发。\n",
    "事实上，欧几里得距离是一个$L_2$范数：\n",
    "假设$n$维向量$\\mathbf{x}$中的元素是$x_1,\\ldots,x_n$，其[**$L_2$*范数*是向量元素平方和的平方根：**]\n",
    "\n",
    "(**$$\\|\\mathbf{x}\\|_2 = \\sqrt{\\sum_{i=1}^n x_i^2},$$**)\n",
    "\n",
    "其中，在$L_2$范数中常常省略下标$2$，也就是说$\\|\\mathbf{x}\\|$等同于$\\|\\mathbf{x}\\|_2$。\n",
    "在代码中，我们可以按如下方式计算向量的$L_2$范数。\n"
   ]
  },
  {
   "cell_type": "code",
   "execution_count": 44,
   "id": "0d07478e",
   "metadata": {
    "origin_pos": 140,
    "tab": [
     "pytorch"
    ]
   },
   "outputs": [
    {
     "data": {
      "text/plain": [
       "tensor(5.)"
      ]
     },
     "execution_count": 44,
     "metadata": {},
     "output_type": "execute_result"
    }
   ],
   "source": [
    "u = torch.tensor([3.0, -4.0])\n",
    "torch.norm(u)"
   ]
  },
  {
   "cell_type": "markdown",
   "id": "7df511e8",
   "metadata": {
    "origin_pos": 143
   },
   "source": [
    "深度学习中更经常地使用$L_2$范数的平方，也会经常遇到[**$L_1$范数，它表示为向量元素的绝对值之和：**]\n",
    "\n",
    "(**$$\\|\\mathbf{x}\\|_1 = \\sum_{i=1}^n \\left|x_i \\right|.$$**)\n",
    "\n",
    "与$L_2$范数相比，$L_1$范数受异常值的影响较小。\n",
    "为了计算$L_1$范数，我们将绝对值函数和按元素求和组合起来。\n"
   ]
  },
  {
   "cell_type": "code",
   "execution_count": 29,
   "id": "3230c3a4",
   "metadata": {
    "execution": {
     "iopub.execute_input": "2022-12-07T16:49:34.584423Z",
     "iopub.status.busy": "2022-12-07T16:49:34.583891Z",
     "iopub.status.idle": "2022-12-07T16:49:34.589927Z",
     "shell.execute_reply": "2022-12-07T16:49:34.589143Z"
    },
    "origin_pos": 145,
    "tab": [
     "pytorch"
    ]
   },
   "outputs": [
    {
     "data": {
      "text/plain": [
       "tensor(7.)"
      ]
     },
     "execution_count": 29,
     "metadata": {},
     "output_type": "execute_result"
    }
   ],
   "source": [
    "torch.abs(u).sum()"
   ]
  },
  {
   "cell_type": "markdown",
   "id": "184bbd57",
   "metadata": {
    "origin_pos": 148
   },
   "source": [
    "$L_2$范数和$L_1$范数都是更一般的$L_p$范数的特例：\n",
    "\n",
    "$$\\|\\mathbf{x}\\|_p = \\left(\\sum_{i=1}^n \\left|x_i \\right|^p \\right)^{1/p}.$$\n",
    "\n",
    "类似于向量的$L_2$范数，[**矩阵**]$\\mathbf{X} \\in \\mathbb{R}^{m \\times n}$(**的*Frobenius范数*（Frobenius norm）是矩阵元素平方和的平方根：**)\n",
    "\n",
    "(**$$\\|\\mathbf{X}\\|_F = \\sqrt{\\sum_{i=1}^m \\sum_{j=1}^n x_{ij}^2}.$$**)\n",
    "\n",
    "Frobenius范数满足向量范数的所有性质，它就像是矩阵形向量的$L_2$范数。\n",
    "调用以下函数将计算矩阵的Frobenius范数。\n"
   ]
  },
  {
   "cell_type": "code",
   "execution_count": 30,
   "id": "d70feaaa",
   "metadata": {
    "execution": {
     "iopub.execute_input": "2022-12-07T16:49:34.593416Z",
     "iopub.status.busy": "2022-12-07T16:49:34.592912Z",
     "iopub.status.idle": "2022-12-07T16:49:34.599045Z",
     "shell.execute_reply": "2022-12-07T16:49:34.598210Z"
    },
    "origin_pos": 150,
    "tab": [
     "pytorch"
    ]
   },
   "outputs": [
    {
     "data": {
      "text/plain": [
       "tensor(6.)"
      ]
     },
     "execution_count": 30,
     "metadata": {},
     "output_type": "execute_result"
    }
   ],
   "source": [
    "torch.norm(torch.ones((4, 9)))"
   ]
  },
  {
   "cell_type": "markdown",
   "id": "c3f6efd1-64db-4224-ba38-fdbe990909af",
   "metadata": {},
   "source": [
    "Frobenius范数\n",
    "\n",
    "Frobenius 范数是用来衡量矩阵大小的一种范数。它是将矩阵中的每个元素都平方后再求和，然后再开平方根。其定义形式如下：\n",
    "\n",
    "假设我们有一个 m × n 的矩阵 A = [a_ij]，Frobenius 范数被定义为：\n",
    "\n",
    "||A||_F = sqrt(sum(a_ij^2))，其中 i 从 1 到 m，j 从 1 到 n。\n",
    "\n",
    "这其实就是把一个矩阵\"拉平\"成一个向量，然后计算这个向量的欧几里得范数（即 L2 范数）。\n",
    "\n",
    "以一个具体的例子来说，如果我们有一个矩阵 A:\n",
    "\n",
    "1 2\n",
    "3 4\n",
    "\n",
    "那么这个矩阵的 Frobenius 范数就是 sqrt(1^2 + 2^2 + 3^2 + 4^2) = sqrt(30)。\n",
    "\n",
    "Frobenius 范数在矩阵计算，特别是在机器学习和数据挖掘领域的一些问题中，比如矩阵分解、矩阵近似、矩阵压缩等问题中有广泛应用。"
   ]
  },
  {
   "cell_type": "code",
   "execution_count": 47,
   "id": "5163e18e-3667-4aa5-85f2-63fef176a848",
   "metadata": {},
   "outputs": [
    {
     "data": {
      "text/plain": [
       "tensor([[1., 1., 1., 1., 1., 1., 1., 1., 1.],\n",
       "        [1., 1., 1., 1., 1., 1., 1., 1., 1.],\n",
       "        [1., 1., 1., 1., 1., 1., 1., 1., 1.],\n",
       "        [1., 1., 1., 1., 1., 1., 1., 1., 1.]])"
      ]
     },
     "execution_count": 47,
     "metadata": {},
     "output_type": "execute_result"
    }
   ],
   "source": [
    "torch.ones((4, 9))"
   ]
  },
  {
   "cell_type": "markdown",
   "id": "ec197832",
   "metadata": {
    "origin_pos": 153
   },
   "source": [
    "### 范数和目标\n",
    "\n",
    ":label:`subsec_norms_and_objectives`\n",
    "\n",
    "在深度学习中，我们经常试图解决优化问题：\n",
    "*最大化*分配给观测数据的概率;\n",
    "*最小化*预测和真实观测之间的距离。\n",
    "用向量表示物品（如单词、产品或新闻文章），以便最小化相似项目之间的距离，最大化不同项目之间的距离。\n",
    "目标，或许是深度学习算法最重要的组成部分（除了数据），通常被表达为范数。\n",
    "\n",
    "## 关于线性代数的更多信息\n",
    "\n",
    "仅用一节，我们就教会了阅读本书所需的、用以理解现代深度学习的线性代数。\n",
    "线性代数还有很多，其中很多数学对于机器学习非常有用。\n",
    "例如，矩阵可以分解为因子，这些分解可以显示真实世界数据集中的低维结构。\n",
    "机器学习的整个子领域都侧重于使用矩阵分解及其向高阶张量的泛化，来发现数据集中的结构并解决预测问题。\n",
    "当开始动手尝试并在真实数据集上应用了有效的机器学习模型，你会更倾向于学习更多数学。\n",
    "因此，这一节到此结束，本书将在后面介绍更多数学知识。\n",
    "\n",
    "如果渴望了解有关线性代数的更多信息，可以参考[线性代数运算的在线附录](https://d2l.ai/chapter_appendix-mathematics-for-deep-learning/geometry-linear-algebraic-ops.html)或其他优秀资源 :cite:`Strang.1993,Kolter.2008,Petersen.Pedersen.ea.2008`。\n",
    "\n",
    "## 小结\n",
    "\n",
    "* 标量、向量、矩阵和张量是线性代数中的基本数学对象。\n",
    "* 向量泛化自标量，矩阵泛化自向量。\n",
    "* 标量、向量、矩阵和张量分别具有零、一、二和任意数量的轴。\n",
    "* 一个张量可以通过`sum`和`mean`沿指定的轴降低维度。\n",
    "* 两个矩阵的按元素乘法被称为他们的Hadamard积。它与矩阵乘法不同。\n",
    "* 在深度学习中，我们经常使用范数，如$L_1$范数、$L_2$范数和Frobenius范数。\n",
    "* 我们可以对标量、向量、矩阵和张量执行各种操作。\n",
    "\n",
    "## 练习\n",
    "\n",
    "1. 证明一个矩阵$\\mathbf{A}$的转置的转置是$\\mathbf{A}$，即$(\\mathbf{A}^\\top)^\\top = \\mathbf{A}$。\n",
    "1. 给出两个矩阵$\\mathbf{A}$和$\\mathbf{B}$，证明“它们转置的和”等于“它们和的转置”，即$\\mathbf{A}^\\top + \\mathbf{B}^\\top = (\\mathbf{A} + \\mathbf{B})^\\top$。\n",
    "1. 给定任意方阵$\\mathbf{A}$，$\\mathbf{A} + \\mathbf{A}^\\top$总是对称的吗?为什么?\n",
    "1. 本节中定义了形状$(2,3,4)$的张量`X`。`len(X)`的输出结果是什么？\n",
    "1. 对于任意形状的张量`X`,`len(X)`是否总是对应于`X`特定轴的长度?这个轴是什么?\n",
    "1. 运行`A/A.sum(axis=1)`，看看会发生什么。请分析一下原因？\n",
    "1. 考虑一个具有形状$(2,3,4)$的张量，在轴0、1、2上的求和输出是什么形状?\n",
    "1. 为`linalg.norm`函数提供3个或更多轴的张量，并观察其输出。对于任意形状的张量这个函数计算得到什么?\n"
   ]
  },
  {
   "cell_type": "markdown",
   "id": "5de773be",
   "metadata": {
    "origin_pos": 155,
    "tab": [
     "pytorch"
    ]
   },
   "source": [
    "[Discussions](https://discuss.d2l.ai/t/1751)\n"
   ]
  },
  {
   "cell_type": "code",
   "execution_count": 55,
   "id": "6644bd8a-4f43-4a93-baf4-02d76ae81edf",
   "metadata": {},
   "outputs": [
    {
     "data": {
      "text/plain": [
       "True"
      ]
     },
     "execution_count": 55,
     "metadata": {},
     "output_type": "execute_result"
    }
   ],
   "source": [
    "# 1. 证明一个矩阵$\\mathbf{A}$的转置的转置是$\\mathbf{A}$，即$(\\mathbf{A}^\\top)^\\top = \\mathbf{A}$。\n",
    "A = torch.tensor([[1, 2, 3], [2, 0, 4], [3, 4, 5]])\n",
    "torch.equal(A,A.T)"
   ]
  },
  {
   "cell_type": "code",
   "execution_count": 59,
   "id": "c3ba5107-5f62-4388-9a80-e528be8072e7",
   "metadata": {},
   "outputs": [
    {
     "data": {
      "text/plain": [
       "True"
      ]
     },
     "execution_count": 59,
     "metadata": {},
     "output_type": "execute_result"
    }
   ],
   "source": [
    "# 2. 给出两个矩阵$\\mathbf{A}$和$\\mathbf{B}$，证明“它们转置的和”等于“它们和的转置”，即$\\mathbf{A}^\\top + \\mathbf{B}^\\top = (\\mathbf{A} + \\mathbf{B})^\\top$。\n",
    "A = torch.tensor([[1, 2, 3], [2, 0, 4], [3, 4, 5]])\n",
    "B = torch.tensor([[0, 1, 2], [3, 0, 5], [4, 5, 6]])\n",
    "\n",
    "torch.equal((A+B).T,(A.T+B.T))"
   ]
  },
  {
   "cell_type": "code",
   "execution_count": 61,
   "id": "67cef5d2-f428-49e6-a15a-a4b248131a93",
   "metadata": {},
   "outputs": [
    {
     "data": {
      "text/plain": [
       "True"
      ]
     },
     "execution_count": 61,
     "metadata": {},
     "output_type": "execute_result"
    }
   ],
   "source": [
    "# 3. 给定任意方阵$\\mathbf{A}$，$\\mathbf{A} + \\mathbf{A}^\\top$总是对称的吗?为什么?\n",
    "A = torch.tensor([[1, 2, 3], [2, 0, 4], [3, 4, 5]])\n",
    "torch.equal((A+A.T),(A+A.T).T)"
   ]
  },
  {
   "cell_type": "code",
   "execution_count": 62,
   "id": "6d95f07a-872d-485a-91a1-c4eb19bc713e",
   "metadata": {},
   "outputs": [],
   "source": [
    "# 4. 本节中定义了形状$(2,3,4)$的张量`X`。`len(X)`的输出结果是什么？\n",
    "2"
   ]
  },
  {
   "cell_type": "markdown",
   "id": "9d1ac367-a981-4e55-9b94-6045eeab719c",
   "metadata": {},
   "source": [
    "5. 对于任意形状的张量`X`,`len(X)`是否总是对应于`X`特定轴的长度?这个轴是什么?\n",
    "\n",
    "是，总是对应`X`特定轴（axis 0）的维数 \n",
    "\n",
    "`len(X)` 在Python中对于张量`X`总是返回第一个维度（即axis 0）的长度。在深度学习中，我们通常将这个维度称为“批次”维度，因为在训练神经网络时，我们通常一次处理一个“批次”的样本，这个“批次”的大小就是这个维度的长度。"
   ]
  },
  {
   "cell_type": "code",
   "execution_count": 65,
   "id": "a2e84a51-210e-4f94-a959-d28e8fe794ac",
   "metadata": {},
   "outputs": [
    {
     "data": {
      "text/plain": [
       "tensor([[[0.1667, 0.3333, 0.2500],\n",
       "         [0.3333, 0.0000, 0.3333],\n",
       "         [0.5000, 0.6667, 0.4167]]])"
      ]
     },
     "execution_count": 65,
     "metadata": {},
     "output_type": "execute_result"
    }
   ],
   "source": [
    "# 6. 运行`A/A.sum(axis=1)`，看看会发生什么。请分析一下原因？\n",
    "A = torch.tensor([[[1, 2, 3], [2, 0, 4], [3, 4, 5]]])\n",
    "A/A.sum(axis=1)\n",
    "\n",
    "#按照列降维后 广播处理"
   ]
  },
  {
   "cell_type": "code",
   "execution_count": 66,
   "id": "72d3b95e-aeab-4ad6-b293-1a8a4dfdcad1",
   "metadata": {},
   "outputs": [
    {
     "data": {
      "text/plain": [
       "tensor([[ 6,  6, 12]])"
      ]
     },
     "execution_count": 66,
     "metadata": {},
     "output_type": "execute_result"
    }
   ],
   "source": [
    "A.sum(axis=1)"
   ]
  },
  {
   "cell_type": "code",
   "execution_count": 67,
   "id": "4e403640-bc55-4172-8b50-9437ba14fb3f",
   "metadata": {},
   "outputs": [
    {
     "data": {
      "text/plain": [
       "tensor([[[1, 2, 3],\n",
       "         [2, 0, 4],\n",
       "         [3, 4, 5]],\n",
       "\n",
       "        [[1, 2, 3],\n",
       "         [2, 0, 4],\n",
       "         [3, 4, 5]]])"
      ]
     },
     "execution_count": 67,
     "metadata": {},
     "output_type": "execute_result"
    }
   ],
   "source": [
    "test = torch.tensor([[[1, 2, 3], [2, 0, 4], [3, 4, 5]],[[1, 2, 3], [2, 0, 4], [3, 4, 5]]])\n",
    "test"
   ]
  },
  {
   "cell_type": "code",
   "execution_count": 68,
   "id": "734e9207-2447-4ff9-a4f9-f469de405e4c",
   "metadata": {},
   "outputs": [
    {
     "data": {
      "text/plain": [
       "tensor([[ 2,  4,  6],\n",
       "        [ 4,  0,  8],\n",
       "        [ 6,  8, 10]])"
      ]
     },
     "execution_count": 68,
     "metadata": {},
     "output_type": "execute_result"
    }
   ],
   "source": [
    "# .sum(axis=0) axis表示要降维的轴 从0开始\n",
    "test_summary  = test.sum(axis=0)\n",
    "test_summary"
   ]
  },
  {
   "cell_type": "code",
   "execution_count": 71,
   "id": "3a0e5053-b651-4b0b-8760-9a56555cf2cb",
   "metadata": {},
   "outputs": [
    {
     "data": {
      "text/plain": [
       "(tensor([[12, 14, 16, 18],\n",
       "         [20, 22, 24, 26],\n",
       "         [28, 30, 32, 34]]),\n",
       " tensor([[12, 15, 18, 21],\n",
       "         [48, 51, 54, 57]]),\n",
       " tensor([[ 6, 22, 38],\n",
       "         [54, 70, 86]]))"
      ]
     },
     "execution_count": 71,
     "metadata": {},
     "output_type": "execute_result"
    }
   ],
   "source": [
    "# 7. 考虑一个具有形状$(2,3,4)$的张量，在轴0、1、2上的求和输出是什么形状?\n",
    "A = torch.arange(2*3*4).reshape(2,3,4)\n",
    "\n",
    "one = A.sum(axis=0)\n",
    "two = A.sum(axis=1)\n",
    "three = A.sum(axis=2)\n",
    "\n",
    "one,two,three\n",
    "# 在轴0，1，2上输出都是矩阵，从三维降到二维矩阵了"
   ]
  },
  {
   "cell_type": "markdown",
   "id": "4395fca1-d6b3-4a94-a8c9-95af32dc9dd6",
   "metadata": {},
   "source": [
    "在这个问题中，我们考虑一个形状为(2,3,4)的张量。然而，你创建的张量`A`的形状为(2,1,3)，可能存在些许混淆。为了讨论问题，让我们先创建一个正确形状的张量：\n",
    "\n",
    "```python\n",
    "A = torch.arange(24).reshape(2, 3, 4)\n",
    "```\n",
    "\n",
    "这个张量`A`的形状是(2,3,4)。下面我们在不同的轴上进行求和：\n",
    "\n",
    "1. `A.sum(axis=0)`会在第一个维度（轴0）上进行求和，也就是对应每个位置的元素在不同的\"层\"之间进行求和。结果的形状是剩余维度的形状，即(3,4)。\n",
    "\n",
    "2. `A.sum(axis=1)`会在第二个维度（轴1）上进行求和，也就是对每个位置的元素在同一\"层\"的不同\"行\"之间进行求和。结果的形状是剩余维度的形状，即(2,4)。\n",
    "\n",
    "3. `A.sum(axis=2)`会在第三个维度（轴2）上进行求和，也就是对每个位置的元素在同一\"层\"的同一\"行\"的不同\"列\"之间进行求和。结果的形状是剩余维度的形状，即(2,3)。\n",
    "\n",
    "所以你的答案可以更详细地写为：“在轴0上求和的输出形状为(3,4)，在轴1上求和的输出形状为(2,4)，在轴2上求和的输出形状为(2,3)。”"
   ]
  },
  {
   "cell_type": "code",
   "execution_count": 75,
   "id": "53e189aa-9f90-4622-9108-caa5fd0daa61",
   "metadata": {},
   "outputs": [
    {
     "name": "stdout",
     "output_type": "stream",
     "text": [
      "tensor(65.7571)\n"
     ]
    }
   ],
   "source": [
    "# 8. 为`linalg.norm`函数提供3个或更多轴的张量，并观察其输出。对于任意形状的张量这个函数计算得到什么?\n",
    "A = torch.arange(24,dtype=torch.float).reshape(2, 3, 4)\n",
    "norm_A = torch.linalg.norm(A)\n",
    "print(norm_A)\n"
   ]
  },
  {
   "cell_type": "code",
   "execution_count": 85,
   "id": "4659858d-2ebf-413b-8839-7e4c40121354",
   "metadata": {},
   "outputs": [
    {
     "name": "stdout",
     "output_type": "stream",
     "text": [
      "4324\n",
      "65.75712889109438\n"
     ]
    }
   ],
   "source": [
    "import math\n",
    "sum_of_squares = 0\n",
    "for i in range(24):\\\n",
    "    sum_of_squares += i**2\n",
    "print(sum_of_squares)\n",
    "print(math.sqrt(sum_of_squares))"
   ]
  },
  {
   "cell_type": "markdown",
   "id": "6f625117-d80d-489b-a697-0a36820abee1",
   "metadata": {},
   "source": [
    "这里，linalg.norm函数计算了张量A的所有元素的平方和的平方根，也就是Frobenius范数。\n",
    "\n",
    "现在，如果我们指定一个或者多个轴，linalg.norm会在给定的轴上计算范数。这就意味着它会将张量在指定轴上的切片看作一个向量，并计算其范数。结果的形状将是忽略了指定轴的原始张量的形状。\n",
    "\n",
    "例如，让我们计算在最后一个轴（轴2）上的范数："
   ]
  },
  {
   "cell_type": "code",
   "execution_count": 86,
   "id": "c228c257-d939-476c-9218-e033fda080c0",
   "metadata": {},
   "outputs": [
    {
     "name": "stdout",
     "output_type": "stream",
     "text": [
      "tensor([[ 3.7417, 11.2250, 19.1311],\n",
      "        [27.0924, 35.0714, 43.0581]])\n",
      "torch.Size([2, 3])\n"
     ]
    }
   ],
   "source": [
    "norm_A_axis2 = torch.linalg.norm(A, axis=2)\n",
    "print(norm_A_axis2)\n",
    "print(norm_A_axis2.shape)\n"
   ]
  },
  {
   "cell_type": "markdown",
   "id": "be8bf726-1dd3-41e7-8000-9f6c85b6f35c",
   "metadata": {},
   "source": [
    "这里，linalg.norm函数在最后一个轴（轴2）上计算了范数，将每个3维切片看作一个向量。结果的形状是忽略了最后一个轴的原始张量的形状，即(2,3)。\n",
    "\n",
    "总的来说，linalg.norm函数计算了在指定轴上的切片（看作向量）的范数，或者在没有指定轴的情况下计算了整个张量的Frobenius范数。对于任意形状的张量，结果的形状将是忽略了指定轴的原始张量的形状，或者在没有指定轴的情况下是一个标量。"
   ]
  },
  {
   "cell_type": "markdown",
   "id": "de15a049-ae90-449c-8fb3-6afc2061fb43",
   "metadata": {},
   "source": [
    "Q：Frobenius 范数在矩阵计算，特别是在机器学习和数据挖掘领域的一些问题中，比如矩阵分解、矩阵近似、矩阵压缩等问题中有广泛应用。我还是不太明白什么意思，帮我用生活中的例子解释下\n",
    "\n",
    "A：想象一下，你有一张很大的地图，上面有各种复杂的信息，如道路、山脉、湖泊、城市等。现在，假设你只需要地图上的一部分信息，例如，你只关心城市和道路，而不关心山脉和湖泊。如果我们把地图看作是一个大矩阵，每个元素代表地图上的一种特征（道路、山脉、湖泊、城市等），那么我们想做的就是从这个复杂的大矩阵中提取出我们关心的信息，这就是矩阵分解或矩阵近似的过程。\n",
    "\n",
    "在这个过程中，我们需要一个度量标准来衡量我们提取的信息（近似矩阵）与原始地图（原始矩阵）的接近程度，也就是误差的大小。Frobenius范数就是这样一个度量标准，它可以度量两个矩阵之间的差异。在我们的地图例子中，Frobenius范数可以帮助我们找到最好的近似矩阵，使得这个近似矩阵与原始矩阵的Frobenius范数（也就是误差）最小。\n",
    "\n",
    "对于机器学习和数据挖掘来说，我们通常有大量的数据，可以将其视为一个大矩阵。但在很多情况下，我们只关心这些数据中的一部分信息，因此需要通过矩阵分解或矩阵近似等方法提取这些信息。在这个过程中，Frobenius范数是一个很有用的工具，可以帮助我们度量提取的信息与原始数据的接近程度，并指导我们找到最好的提取方法。"
   ]
  },
  {
   "cell_type": "markdown",
   "id": "a55e6fe9-9a40-4af1-8671-792089030d29",
   "metadata": {},
   "source": [
    "Q：用linalg.norm 帮我按照上面矩阵分解的例子帮我写一个简单机器学习和数据挖掘的例子\n",
    "\n",
    "A：假设我们有一个用户评分矩阵，该矩阵表示了用户对不同电影的评分。但是，很多用户并没有给所有的电影评分，所以矩阵中有很多空值。我们的目标是预测这些未知的评分。这就是一个典型的推荐系统问题，也是机器学习和数据挖掘的重要应用之一。\n",
    "\n",
    "矩阵分解是解决这个问题的一个有效方法。我们可以将用户评分矩阵分解为两个较小的矩阵的乘积，一个表示用户的潜在特征，一个表示电影的潜在特征。然后，我们可以通过这两个潜在特征矩阵的乘积来预测未知的评分。\n",
    "\n",
    "在这个过程中，Frobenius范数可以帮助我们度量预测评分与实际评分之间的误差。具体来说，我们可以找到两个潜在特征矩阵，使得预测评分矩阵与实际评分矩阵的Frobenius范数最小。\n",
    "\n",
    "这是一个非常简化的版本的推荐系统，但是希望它可以帮助你理解Frobenius范数在机器学习和数据挖掘中的应用。"
   ]
  },
  {
   "cell_type": "code",
   "execution_count": 95,
   "id": "d7726543-0d61-49ca-a7cf-7e3a448dfcf1",
   "metadata": {},
   "outputs": [
    {
     "name": "stdout",
     "output_type": "stream",
     "text": [
      "Frobenius norm: 4.198144066066999\n"
     ]
    }
   ],
   "source": [
    "import numpy as np\n",
    "\n",
    "# 假设我们有以下用户评分矩阵\n",
    "# 用户对电影的评分可以在1-5之间，未知评分用0表示\n",
    "ratings = np.array([\n",
    "    [5, 3, 0, 1],\n",
    "    [4, 0, 0, 1],\n",
    "    [1, 1, 0, 5],\n",
    "    [1, 0, 0, 4],\n",
    "    [0, 1, 5, 4],\n",
    "])\n",
    "\n",
    "# 我们将评分矩阵分解为两个矩阵的乘积\n",
    "# 这里我们只是简单地使用随机数来初始化这两个矩阵\n",
    "n_latent_factors = 2\n",
    "user_features = np.random.random((ratings.shape[0], n_latent_factors))\n",
    "movie_features = np.random.random((ratings.shape[1], n_latent_factors))\n",
    "\n",
    "# 我们迭代地优化用户特征矩阵和电影特征矩阵\n",
    "n_iterations = 10000\n",
    "learning_rate = 0.01\n",
    "\n",
    "for _ in range(n_iterations):\n",
    "    # 计算了预测的评分矩阵，其实就是用户特征矩阵和电影特征矩阵的乘积。这里的 @ 符号代表矩阵乘法。\n",
    "    predicted_ratings = user_features @ movie_features.T \n",
    "    # 计算了实际评分矩阵（ratings）和预测评分矩阵（predicted_ratings）之间的误差。\n",
    "    error = ratings - predicted_ratings \n",
    "    # 对用户特征矩阵进行更新。它计算的是误差矩阵和电影特征矩阵的乘积，然后将这个结果乘以学习率后加到当前的用户特征矩阵上。\n",
    "    # 这是一个简单的梯度下降步骤，用于最小化误差。\n",
    "    user_features += learning_rate * error @ movie_features \n",
    "    # 对电影特征矩阵进行更新。与用户特征矩阵的更新类似，它也是通过计算误差矩阵的转置和用户特征矩阵的乘积，然后乘以学习率后加到当前的电影特征矩阵上来实现的。\n",
    "    movie_features += learning_rate * error.T @ user_features\n",
    "\n",
    "# 现在我们可以计算预测评分与实际评分的Frobenius范数\n",
    "frobenius_norm = np.linalg.norm(ratings - predicted_ratings)\n",
    "print('Frobenius norm:', frobenius_norm)\n",
    "\n",
    "# 输出：Frobenius norm: 3.125456094167378 (这个值会因为随机初始化的原因而变化)\n",
    "# 这个过程实际上是一种非常简单的梯度下降方法，它试图最小化预测评分和实际评分之间的误差。\n",
    "# 这个误差，也就是损失函数，这里就是预测评分和实际评分的Frobenius范数，\n",
    "# 也就是 np.linalg.norm(ratings - predicted_ratings) 这一行代码计算的内容。\n"
   ]
  },
  {
   "cell_type": "markdown",
   "id": "5820f3e6-fa47-4b2f-a110-45b463bde48f",
   "metadata": {},
   "source": [
    "Q：现在我们可以计算预测评分与实际评分的Frobenius范数 ,其实就是求出的Frobenius范数越小越好\n",
    "\n",
    "A：是的，你的理解是正确的。在这个问题中，我们正在试图优化用户特征和电影特征，以使预测评分尽可能接近实际评分。预测评分和实际评分之间的误差可以通过Frobenius范数来度量，即预测矩阵和实际矩阵之间的元素差的平方和的平方根。\n",
    "\n",
    "这是因为Frobenius范数是一种矩阵范数，它能量化矩阵（在这种情况下是预测评分和实际评分之间的差异）的“大小”或“长度”。在我们的情况下，Frobenius范数是衡量我们的预测评分与实际评分的一致性的一个度量。\n",
    "\n",
    "如果预测评分完全准确，那么预测评分和实际评分之间的Frobenius范数将为0。如果预测的评分完全不准确，那么Frobenius范数将会非常大。因此，我们的目标是最小化Frobenius范数，这意味着我们希望预测的评分尽可能接近实际的评分。\n",
    "\n",
    "你可以像下面这样计算预测评分和实际评分之间的Frobenius范数：\n",
    "\n",
    "```python\n",
    "import numpy as np\n",
    "\n",
    "error = predicted_ratings - ratings  # 计算预测评分和实际评分的差\n",
    "frobenius_norm = np.linalg.norm(error)  # 计算Frobenius范数\n",
    "print(frobenius_norm)\n",
    "```\n",
    "\n",
    "在这个代码中，我们首先计算预测评分和实际评分之间的差（这是一个矩阵），然后我们使用NumPy的linalg.norm函数来计算这个差的Frobenius范数。最后，我们打印出Frobenius范数的值。"
   ]
  },
  {
   "cell_type": "code",
   "execution_count": null,
   "id": "5e173399-87bd-4a82-a96e-c8c3eb8d6460",
   "metadata": {},
   "outputs": [],
   "source": []
  }
 ],
 "metadata": {
  "kernelspec": {
   "display_name": "torch-gpuprivate",
   "language": "python",
   "name": "torch-gpuprivate"
  },
  "language_info": {
   "codemirror_mode": {
    "name": "ipython",
    "version": 3
   },
   "file_extension": ".py",
   "mimetype": "text/x-python",
   "name": "python",
   "nbconvert_exporter": "python",
   "pygments_lexer": "ipython3",
   "version": "3.10.11"
  }
 },
 "nbformat": 4,
 "nbformat_minor": 5
}
