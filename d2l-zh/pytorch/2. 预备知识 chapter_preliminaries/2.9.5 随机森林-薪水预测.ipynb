{
 "cells": [
  {
   "cell_type": "code",
   "execution_count": null,
   "id": "74bc939b-1e93-40f6-b6e6-cf46e7ba0c37",
   "metadata": {},
   "outputs": [],
   "source": [
    "from sklearn.ensemble import RandomForestRegressor\n",
    "from sklearn.model_selection import train_test_split\n",
    "from sklearn.preprocessing import LabelEncoder\n",
    "import pandas as pd\n",
    "\n",
    "# 假设我们有一个数据集，包含城市、岗位、年龄、学历和薪水\n",
    "data = {\n",
    "    'city': ['Beijing', 'Shanghai', 'Guangzhou', 'Shenzhen', 'Beijing'],\n",
    "    'job': ['Engineer', 'Teacher', 'Doctor', 'Engineer', 'Teacher'],\n",
    "    'age': [25, 30, 35, 40, 45],\n",
    "    'education': ['Bachelor', 'Master', 'PhD', 'Bachelor', 'Master'],\n",
    "    'salary': [10000, 15000, 20000, 25000, 30000]\n",
    "}\n",
    "df = pd.DataFrame(data)\n",
    "\n",
    "# 使用LabelEncoder将类别变量转换为数值\n",
    "le = LabelEncoder()\n",
    "df['city'] = le.fit_transform(df['city'])\n",
    "df['job'] = le.fit_transform(df['job'])\n",
    "df['education'] = le.fit_transform(df['education'])\n",
    "\n",
    "# 分割数据集为训练集和测试集\n",
    "X = df[['city', 'job', 'age', 'education']]\n",
    "y = df['salary']\n",
    "X_train, X_test, y_train, y_test = train_test_split(X, y, test_size=0.2, random_state=42)\n",
    "\n",
    "# 创建并训练模型\n",
    "model = RandomForestRegressor(n_estimators=100, random_state=42)\n",
    "model.fit(X_train, y_train)\n",
    "\n",
    "# 使用模型进行预测\n",
    "y_pred = model.predict(X_test)\n",
    "\n",
    "# 打印预测结果\n",
    "print(y_pred)\n"
   ]
  }
 ],
 "metadata": {
  "kernelspec": {
   "display_name": "Python 3 (ipykernel)",
   "language": "python",
   "name": "python3"
  },
  "language_info": {
   "codemirror_mode": {
    "name": "ipython",
    "version": 3
   },
   "file_extension": ".py",
   "mimetype": "text/x-python",
   "name": "python",
   "nbconvert_exporter": "python",
   "pygments_lexer": "ipython3",
   "version": "3.10.11"
  }
 },
 "nbformat": 4,
 "nbformat_minor": 5
}
