{
 "cells": [
  {
   "cell_type": "markdown",
   "id": "45a77b49",
   "metadata": {},
   "source": [
    "### 正态分布模型\n",
    "``` \n",
    "正态分布（Normal distribution），也被称为高斯分布（Gaussian distribution），是一种在自然和社会科学中非常常见的连续概率分布。正态分布的形状是一个对称的钟形曲线，也被称为“钟形曲线”。\n",
    "\n",
    "在正态分布中，均值、中位数和众数都相等，并且位于分布的中心。这个分布是对称的，意味着分布的左半部分是分布右半部分的镜像。正态分布的这种性质使得计算方便，因此在许多领域都有着广泛的应用，如统计学、物理学、工程学和社会科学等。\n",
    "\n",
    "正态分布的概率密度函数为：\n",
    "\n",
    "f(x|μ,σ^2) = (1/√(2πσ^2)) * e^(-(x-μ)^2 / (2σ^2))\n",
    "\n",
    "其中，μ是分布的均值，σ^2 是分布的方差。方差越大，分布的宽度就越大；方差越小，分布的宽度就越小。\n",
    "\n",
    "注意，正态分布是一种理想化的分布，真实世界的数据可能会有所偏离。\n",
    "```"
   ]
  },
  {
   "cell_type": "code",
   "execution_count": null,
   "id": "8de43092",
   "metadata": {},
   "outputs": [],
   "source": [
    "import numpy as np\n",
    "import matplotlib.pyplot as plt\n",
    "\n",
    "mu = 0  # mean\n",
    "sigma = 1  # standard deviation\n",
    "x = np.linspace(mu - 3*sigma, mu + 3*sigma, 100)\n",
    "y = 1/(sigma * np.sqrt(2 * np.pi)) * np.exp(- (x - mu)**2 / (2 * sigma**2))\n",
    "\n",
    "plt.plot(x, y)\n",
    "plt.title('Normal Distribution')\n",
    "plt.xlabel('x')\n",
    "plt.ylabel('Probability Density')\n",
    "plt.show()\n"
   ]
  },
  {
   "cell_type": "markdown",
   "id": "7e6afb67",
   "metadata": {},
   "source": [
    "### 张量CPU和GPU运算效率 区别"
   ]
  },
  {
   "cell_type": "code",
   "execution_count": 6,
   "id": "bd387645",
   "metadata": {},
   "outputs": [
    {
     "name": "stdout",
     "output_type": "stream",
     "text": [
      "CPU time: 0.8836498260498047 seconds\n",
      "CUDA is not available.\n"
     ]
    }
   ],
   "source": [
    "import torch\n",
    "import time\n",
    "\n",
    "# 创建大小为10000 x 10000的随机张量\n",
    "size = 10000\n",
    "a = torch.rand(size, size)\n",
    "b = torch.rand(size, size)\n",
    "\n",
    "# 在CPU上进行计算\n",
    "start_time = time.time()\n",
    "c = torch.matmul(a, b)\n",
    "end_time = time.time()\n",
    "print(f\"CPU time: {end_time - start_time} seconds\")\n",
    "\n",
    "# 将张量移动到GPU\n",
    "if torch.cuda.is_available():\n",
    "    a = a.to('cuda')\n",
    "    b = b.to('cuda')\n",
    "\n",
    "    # 在GPU上进行计算\n",
    "    start_time = time.time()\n",
    "    c = torch.matmul(a, b)\n",
    "    end_time = time.time()\n",
    "    print(f\"GPU time: {end_time - start_time} seconds\")\n",
    "else:\n",
    "    print(\"CUDA is not available.\")\n"
   ]
  },
  {
   "cell_type": "markdown",
   "id": "8b758fe6",
   "metadata": {},
   "source": [
    "### 测试最新MSP加速"
   ]
  },
  {
   "cell_type": "code",
   "execution_count": 7,
   "id": "511024a0",
   "metadata": {},
   "outputs": [
    {
     "name": "stdout",
     "output_type": "stream",
     "text": [
      "Is MPS (Metal Performance Shader) built? True\n",
      "Is MPS available? True\n"
     ]
    }
   ],
   "source": [
    "import torch\n",
    "print(f\"Is MPS (Metal Performance Shader) built? {torch.backends.mps.is_built()}\")\n",
    "print(f\"Is MPS available? {torch.backends.mps.is_available()}\")\n"
   ]
  },
  {
   "cell_type": "code",
   "execution_count": null,
   "id": "c92ef149",
   "metadata": {},
   "outputs": [],
   "source": [
    "import torch\n",
    "import time\n",
    "\n",
    "# 创建大小为10000 x 10000的随机张量\n",
    "size = 100000\n",
    "a = torch.rand(size, size)\n",
    "b = torch.rand(size, size)\n",
    "\n",
    "# 在CPU上进行计算\n",
    "start_time = time.time()\n",
    "c = torch.matmul(a, b)\n",
    "end_time = time.time()\n",
    "print(f\"CPU time: {end_time - start_time} seconds\")\n",
    "\n",
    "# 判断MPS是否可用\n",
    "if torch.backends.mps.is_available():\n",
    "    a = a.to('mps')\n",
    "    b = b.to('mps')\n",
    "\n",
    "    # 在MPS上进行计算\n",
    "    start_time = time.time()\n",
    "    c = torch.matmul(a, b)\n",
    "    end_time = time.time()\n",
    "    print(f\"MPS time: {end_time - start_time} seconds\")\n",
    "else:\n",
    "    print(\"MPS is not available.\")\n"
   ]
  },
  {
   "cell_type": "markdown",
   "id": "422768c1",
   "metadata": {},
   "source": [
    "### 测试GPU"
   ]
  },
  {
   "cell_type": "code",
   "execution_count": null,
   "id": "b032793e",
   "metadata": {},
   "outputs": [],
   "source": [
    "import torch\n",
    "import math\n",
    "\n",
    "print(torch.backends.mps.is_available())\n",
    "# True\n",
    "print(torch.backends.mps.is_built())\n",
    "# True\n"
   ]
  },
  {
   "cell_type": "code",
   "execution_count": null,
   "id": "3acae7c7",
   "metadata": {},
   "outputs": [],
   "source": []
  }
 ],
 "metadata": {
  "kernelspec": {
   "display_name": "Python 3 (ipykernel)",
   "language": "python",
   "name": "python3"
  },
  "language_info": {
   "codemirror_mode": {
    "name": "ipython",
    "version": 3
   },
   "file_extension": ".py",
   "mimetype": "text/x-python",
   "name": "python",
   "nbconvert_exporter": "python",
   "pygments_lexer": "ipython3",
   "version": "3.10.11"
  }
 },
 "nbformat": 4,
 "nbformat_minor": 5
}
